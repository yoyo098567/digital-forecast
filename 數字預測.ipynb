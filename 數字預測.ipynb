{
  "nbformat": 4,
  "nbformat_minor": 0,
  "metadata": {
    "colab": {
      "name": "ch2 new.ipynb",
      "provenance": [],
      "collapsed_sections": [],
      "mount_file_id": "19ORdrBv2CJFCWtFYMFgJ5-YpKkju1B_G",
      "authorship_tag": "ABX9TyMYzKkrQr+eXaUCUT1unYnB",
      "include_colab_link": true
    },
    "kernelspec": {
      "name": "python3",
      "display_name": "Python 3"
    },
    "language_info": {
      "name": "python"
    }
  },
  "cells": [
    {
      "cell_type": "markdown",
      "metadata": {
        "id": "view-in-github",
        "colab_type": "text"
      },
      "source": [
        "<a href=\"https://colab.research.google.com/github/yoyo098567/digital-forecast/blob/main/%E6%95%B8%E5%AD%97%E9%A0%90%E6%B8%AC.ipynb\" target=\"_parent\"><img src=\"https://colab.research.google.com/assets/colab-badge.svg\" alt=\"Open In Colab\"/></a>"
      ]
    },
    {
      "cell_type": "code",
      "metadata": {
        "id": "PEOXhe3RP0GB"
      },
      "source": [
        "from tensorflow.keras.datasets import mnist\n",
        "from tensorflow.keras.models  import Sequential\n",
        "from tensorflow.keras.layers  import Dense\n",
        "from tensorflow.keras import optimizers\n",
        "# from tensorflow.keras.utils import plot_model\n",
        "from tensorflow.keras.utils import to_categorical\n",
        "import matplotlib.pyplot as plt\n",
        "import numpy as np"
      ],
      "execution_count": null,
      "outputs": []
    },
    {
      "cell_type": "code",
      "metadata": {
        "id": "YiySXWEsP965"
      },
      "source": [
        "(X_train, Y_train),(X_test, Y_test) = mnist.load_data()"
      ],
      "execution_count": null,
      "outputs": []
    },
    {
      "cell_type": "code",
      "metadata": {
        "id": "LQn63vNAP_SY",
        "colab": {
          "base_uri": "https://localhost:8080/"
        },
        "outputId": "ab6b3975-0965-44d6-de19-f826239837ae"
      },
      "source": [
        "X_train.shape"
      ],
      "execution_count": null,
      "outputs": [
        {
          "output_type": "execute_result",
          "data": {
            "text/plain": [
              "(60000, 28, 28)"
            ]
          },
          "metadata": {},
          "execution_count": 179
        }
      ]
    },
    {
      "cell_type": "code",
      "metadata": {
        "colab": {
          "base_uri": "https://localhost:8080/"
        },
        "id": "vbHzfGVLlwn-",
        "outputId": "08d4beb3-90bc-46e0-e26a-08c232919e40"
      },
      "source": [
        "len(X_test)"
      ],
      "execution_count": null,
      "outputs": [
        {
          "output_type": "execute_result",
          "data": {
            "text/plain": [
              "10000"
            ]
          },
          "metadata": {},
          "execution_count": 93
        }
      ]
    },
    {
      "cell_type": "code",
      "metadata": {
        "id": "qqZaL2VmQBOK",
        "colab": {
          "base_uri": "https://localhost:8080/"
        },
        "outputId": "e099c4c1-d2f4-4a16-84d0-a9dfb82ba40c"
      },
      "source": [
        "np.set_printoptions(linewidth=np.inf) #設定列印顯示為一行，inf為無限大\n",
        "X_train[6]"
      ],
      "execution_count": null,
      "outputs": [
        {
          "output_type": "execute_result",
          "data": {
            "text/plain": [
              "array([[  0,   0,   0,   0,   0,   0,   0,   0,   0,   0,   0,   0,   0,   0,   0,   0,   0,   0,   0,   0,   0,   0,   0,   0,   0,   0,   0,   0],\n",
              "       [  0,   0,   0,   0,   0,   0,   0,   0,   0,   0,   0,   0,   0,   0,   0,   0,   0,   0,   0,   0,   0,   0,   0,   0,   0,   0,   0,   0],\n",
              "       [  0,   0,   0,   0,   0,   0,   0,   0,   0,   0,   0,   0,   0,   0,   0,   0,   0,   0,   0,   0,   0,   0,   0,   0,   0,   0,   0,   0],\n",
              "       [  0,   0,   0,   0,   0,   0,   0,   0,   0,   0,   0,   0,   0,   0,   0,   0,   0,   0,   0,   0,   0,   0,   0,   0,   0,   0,   0,   0],\n",
              "       [  0,   0,   0,   0,   0,   0,   0,   0,   0,   0,   0,   0, 145, 255, 211,  31,   0,   0,   0,   0,   0,   0,   0,   0,   0,   0,   0,   0],\n",
              "       [  0,   0,   0,   0,   0,   0,   0,   0,   0,   0,   0,  32, 237, 253, 252,  71,   0,   0,   0,   0,   0,   0,   0,   0,   0,   0,   0,   0],\n",
              "       [  0,   0,   0,   0,   0,   0,   0,   0,   0,   0,   0,  11, 175, 253, 252,  71,   0,   0,   0,   0,   0,   0,   0,   0,   0,   0,   0,   0],\n",
              "       [  0,   0,   0,   0,   0,   0,   0,   0,   0,   0,   0,   0, 144, 253, 252,  71,   0,   0,   0,   0,   0,   0,   0,   0,   0,   0,   0,   0],\n",
              "       [  0,   0,   0,   0,   0,   0,   0,   0,   0,   0,   0,  16, 191, 253, 252,  71,   0,   0,   0,   0,   0,   0,   0,   0,   0,   0,   0,   0],\n",
              "       [  0,   0,   0,   0,   0,   0,   0,   0,   0,   0,   0,  26, 221, 253, 252, 124,  31,   0,   0,   0,   0,   0,   0,   0,   0,   0,   0,   0],\n",
              "       [  0,   0,   0,   0,   0,   0,   0,   0,   0,   0,   0,   0, 125, 253, 252, 252, 108,   0,   0,   0,   0,   0,   0,   0,   0,   0,   0,   0],\n",
              "       [  0,   0,   0,   0,   0,   0,   0,   0,   0,   0,   0,   0,   0, 253, 252, 252, 108,   0,   0,   0,   0,   0,   0,   0,   0,   0,   0,   0],\n",
              "       [  0,   0,   0,   0,   0,   0,   0,   0,   0,   0,   0,   0,   0, 255, 253, 253, 108,   0,   0,   0,   0,   0,   0,   0,   0,   0,   0,   0],\n",
              "       [  0,   0,   0,   0,   0,   0,   0,   0,   0,   0,   0,   0,   0, 253, 252, 252, 108,   0,   0,   0,   0,   0,   0,   0,   0,   0,   0,   0],\n",
              "       [  0,   0,   0,   0,   0,   0,   0,   0,   0,   0,   0,   0,   0, 253, 252, 252, 108,   0,   0,   0,   0,   0,   0,   0,   0,   0,   0,   0],\n",
              "       [  0,   0,   0,   0,   0,   0,   0,   0,   0,   0,   0,   0,   0, 253, 252, 252, 108,   0,   0,   0,   0,   0,   0,   0,   0,   0,   0,   0],\n",
              "       [  0,   0,   0,   0,   0,   0,   0,   0,   0,   0,   0,   0,   0, 255, 253, 253, 170,   0,   0,   0,   0,   0,   0,   0,   0,   0,   0,   0],\n",
              "       [  0,   0,   0,   0,   0,   0,   0,   0,   0,   0,   0,   0,   0, 253, 252, 252, 252,  42,   0,   0,   0,   0,   0,   0,   0,   0,   0,   0],\n",
              "       [  0,   0,   0,   0,   0,   0,   0,   0,   0,   0,   0,   0,   0, 149, 252, 252, 252, 144,   0,   0,   0,   0,   0,   0,   0,   0,   0,   0],\n",
              "       [  0,   0,   0,   0,   0,   0,   0,   0,   0,   0,   0,   0,   0, 109, 252, 252, 252, 144,   0,   0,   0,   0,   0,   0,   0,   0,   0,   0],\n",
              "       [  0,   0,   0,   0,   0,   0,   0,   0,   0,   0,   0,   0,   0,   0, 218, 253, 253, 255,  35,   0,   0,   0,   0,   0,   0,   0,   0,   0],\n",
              "       [  0,   0,   0,   0,   0,   0,   0,   0,   0,   0,   0,   0,   0,   0, 175, 252, 252, 253,  35,   0,   0,   0,   0,   0,   0,   0,   0,   0],\n",
              "       [  0,   0,   0,   0,   0,   0,   0,   0,   0,   0,   0,   0,   0,   0,  73, 252, 252, 253,  35,   0,   0,   0,   0,   0,   0,   0,   0,   0],\n",
              "       [  0,   0,   0,   0,   0,   0,   0,   0,   0,   0,   0,   0,   0,   0,  31, 211, 252, 253,  35,   0,   0,   0,   0,   0,   0,   0,   0,   0],\n",
              "       [  0,   0,   0,   0,   0,   0,   0,   0,   0,   0,   0,   0,   0,   0,   0,   0,   0,   0,   0,   0,   0,   0,   0,   0,   0,   0,   0,   0],\n",
              "       [  0,   0,   0,   0,   0,   0,   0,   0,   0,   0,   0,   0,   0,   0,   0,   0,   0,   0,   0,   0,   0,   0,   0,   0,   0,   0,   0,   0],\n",
              "       [  0,   0,   0,   0,   0,   0,   0,   0,   0,   0,   0,   0,   0,   0,   0,   0,   0,   0,   0,   0,   0,   0,   0,   0,   0,   0,   0,   0],\n",
              "       [  0,   0,   0,   0,   0,   0,   0,   0,   0,   0,   0,   0,   0,   0,   0,   0,   0,   0,   0,   0,   0,   0,   0,   0,   0,   0,   0,   0]], dtype=uint8)"
            ]
          },
          "metadata": {},
          "execution_count": 30
        }
      ]
    },
    {
      "cell_type": "code",
      "metadata": {
        "id": "RbuyHgEUQApQ",
        "colab": {
          "base_uri": "https://localhost:8080/"
        },
        "outputId": "6b27e64c-82d6-4374-fe48-c11a8ba61160"
      },
      "source": [
        "Y_train.shape"
      ],
      "execution_count": null,
      "outputs": [
        {
          "output_type": "execute_result",
          "data": {
            "text/plain": [
              "(60000,)"
            ]
          },
          "metadata": {},
          "execution_count": 6
        }
      ]
    },
    {
      "cell_type": "code",
      "metadata": {
        "id": "9E_g8Gq7QgUR",
        "colab": {
          "base_uri": "https://localhost:8080/",
          "height": 52
        },
        "outputId": "6d5da2a8-1d82-4be3-f99a-fa09a1c95e69"
      },
      "source": [
        "plt.figure(figsize=(20,20))"
      ],
      "execution_count": null,
      "outputs": [
        {
          "output_type": "execute_result",
          "data": {
            "text/plain": [
              "<Figure size 1440x1440 with 0 Axes>"
            ]
          },
          "metadata": {},
          "execution_count": 180
        },
        {
          "output_type": "display_data",
          "data": {
            "text/plain": [
              "<Figure size 1440x1440 with 0 Axes>"
            ]
          },
          "metadata": {}
        }
      ]
    },
    {
      "cell_type": "code",
      "metadata": {
        "colab": {
          "base_uri": "https://localhost:8080/"
        },
        "id": "SKumhl4qF_rE",
        "outputId": "6f6cf534-2cc5-48b8-fa28-d2437356e8cc"
      },
      "source": [
        "X_test[0:10]"
      ],
      "execution_count": null,
      "outputs": [
        {
          "output_type": "execute_result",
          "data": {
            "text/plain": [
              "array([[[0, 0, 0, ..., 0, 0, 0],\n",
              "        [0, 0, 0, ..., 0, 0, 0],\n",
              "        [0, 0, 0, ..., 0, 0, 0],\n",
              "        ...,\n",
              "        [0, 0, 0, ..., 0, 0, 0],\n",
              "        [0, 0, 0, ..., 0, 0, 0],\n",
              "        [0, 0, 0, ..., 0, 0, 0]],\n",
              "\n",
              "       [[0, 0, 0, ..., 0, 0, 0],\n",
              "        [0, 0, 0, ..., 0, 0, 0],\n",
              "        [0, 0, 0, ..., 0, 0, 0],\n",
              "        ...,\n",
              "        [0, 0, 0, ..., 0, 0, 0],\n",
              "        [0, 0, 0, ..., 0, 0, 0],\n",
              "        [0, 0, 0, ..., 0, 0, 0]],\n",
              "\n",
              "       [[0, 0, 0, ..., 0, 0, 0],\n",
              "        [0, 0, 0, ..., 0, 0, 0],\n",
              "        [0, 0, 0, ..., 0, 0, 0],\n",
              "        ...,\n",
              "        [0, 0, 0, ..., 0, 0, 0],\n",
              "        [0, 0, 0, ..., 0, 0, 0],\n",
              "        [0, 0, 0, ..., 0, 0, 0]],\n",
              "\n",
              "       ...,\n",
              "\n",
              "       [[0, 0, 0, ..., 0, 0, 0],\n",
              "        [0, 0, 0, ..., 0, 0, 0],\n",
              "        [0, 0, 0, ..., 0, 0, 0],\n",
              "        ...,\n",
              "        [0, 0, 0, ..., 0, 0, 0],\n",
              "        [0, 0, 0, ..., 0, 0, 0],\n",
              "        [0, 0, 0, ..., 0, 0, 0]],\n",
              "\n",
              "       [[0, 0, 0, ..., 0, 0, 0],\n",
              "        [0, 0, 0, ..., 0, 0, 0],\n",
              "        [0, 0, 0, ..., 0, 0, 0],\n",
              "        ...,\n",
              "        [0, 0, 0, ..., 0, 0, 0],\n",
              "        [0, 0, 0, ..., 0, 0, 0],\n",
              "        [0, 0, 0, ..., 0, 0, 0]],\n",
              "\n",
              "       [[0, 0, 0, ..., 0, 0, 0],\n",
              "        [0, 0, 0, ..., 0, 0, 0],\n",
              "        [0, 0, 0, ..., 0, 0, 0],\n",
              "        ...,\n",
              "        [0, 0, 0, ..., 0, 0, 0],\n",
              "        [0, 0, 0, ..., 0, 0, 0],\n",
              "        [0, 0, 0, ..., 0, 0, 0]]], dtype=uint8)"
            ]
          },
          "metadata": {},
          "execution_count": 7
        }
      ]
    },
    {
      "cell_type": "code",
      "metadata": {
        "id": "8LPdVdrRQbEa",
        "colab": {
          "base_uri": "https://localhost:8080/"
        },
        "outputId": "b48bad99-e16d-4c6e-f431-5c84a3250a5c"
      },
      "source": [
        "Y_test[0:1000]\n"
      ],
      "execution_count": null,
      "outputs": [
        {
          "output_type": "execute_result",
          "data": {
            "text/plain": [
              "array([7, 2, 1, 0, 4, 1, 4, 9, 5, 9, 0, 6, 9, 0, 1, 5, 9, 7, 3, 4, 9, 6,\n",
              "       6, 5, 4, 0, 7, 4, 0, 1, 3, 1, 3, 4, 7, 2, 7, 1, 2, 1, 1, 7, 4, 2,\n",
              "       3, 5, 1, 2, 4, 4, 6, 3, 5, 5, 6, 0, 4, 1, 9, 5, 7, 8, 9, 3, 7, 4,\n",
              "       6, 4, 3, 0, 7, 0, 2, 9, 1, 7, 3, 2, 9, 7, 7, 6, 2, 7, 8, 4, 7, 3,\n",
              "       6, 1, 3, 6, 9, 3, 1, 4, 1, 7, 6, 9, 6, 0, 5, 4, 9, 9, 2, 1, 9, 4,\n",
              "       8, 7, 3, 9, 7, 4, 4, 4, 9, 2, 5, 4, 7, 6, 7, 9, 0, 5, 8, 5, 6, 6,\n",
              "       5, 7, 8, 1, 0, 1, 6, 4, 6, 7, 3, 1, 7, 1, 8, 2, 0, 2, 9, 9, 5, 5,\n",
              "       1, 5, 6, 0, 3, 4, 4, 6, 5, 4, 6, 5, 4, 5, 1, 4, 4, 7, 2, 3, 2, 7,\n",
              "       1, 8, 1, 8, 1, 8, 5, 0, 8, 9, 2, 5, 0, 1, 1, 1, 0, 9, 0, 3, 1, 6,\n",
              "       4, 2, 3, 6, 1, 1, 1, 3, 9, 5, 2, 9, 4, 5, 9, 3, 9, 0, 3, 6, 5, 5,\n",
              "       7, 2, 2, 7, 1, 2, 8, 4, 1, 7, 3, 3, 8, 8, 7, 9, 2, 2, 4, 1, 5, 9,\n",
              "       8, 7, 2, 3, 0, 4, 4, 2, 4, 1, 9, 5, 7, 7, 2, 8, 2, 6, 8, 5, 7, 7,\n",
              "       9, 1, 8, 1, 8, 0, 3, 0, 1, 9, 9, 4, 1, 8, 2, 1, 2, 9, 7, 5, 9, 2,\n",
              "       6, 4, 1, 5, 8, 2, 9, 2, 0, 4, 0, 0, 2, 8, 4, 7, 1, 2, 4, 0, 2, 7,\n",
              "       4, 3, 3, 0, 0, 3, 1, 9, 6, 5, 2, 5, 9, 2, 9, 3, 0, 4, 2, 0, 7, 1,\n",
              "       1, 2, 1, 5, 3, 3, 9, 7, 8, 6, 5, 6, 1, 3, 8, 1, 0, 5, 1, 3, 1, 5,\n",
              "       5, 6, 1, 8, 5, 1, 7, 9, 4, 6, 2, 2, 5, 0, 6, 5, 6, 3, 7, 2, 0, 8,\n",
              "       8, 5, 4, 1, 1, 4, 0, 3, 3, 7, 6, 1, 6, 2, 1, 9, 2, 8, 6, 1, 9, 5,\n",
              "       2, 5, 4, 4, 2, 8, 3, 8, 2, 4, 5, 0, 3, 1, 7, 7, 5, 7, 9, 7, 1, 9,\n",
              "       2, 1, 4, 2, 9, 2, 0, 4, 9, 1, 4, 8, 1, 8, 4, 5, 9, 8, 8, 3, 7, 6,\n",
              "       0, 0, 3, 0, 2, 6, 6, 4, 9, 3, 3, 3, 2, 3, 9, 1, 2, 6, 8, 0, 5, 6,\n",
              "       6, 6, 3, 8, 8, 2, 7, 5, 8, 9, 6, 1, 8, 4, 1, 2, 5, 9, 1, 9, 7, 5,\n",
              "       4, 0, 8, 9, 9, 1, 0, 5, 2, 3, 7, 8, 9, 4, 0, 6, 3, 9, 5, 2, 1, 3,\n",
              "       1, 3, 6, 5, 7, 4, 2, 2, 6, 3, 2, 6, 5, 4, 8, 9, 7, 1, 3, 0, 3, 8,\n",
              "       3, 1, 9, 3, 4, 4, 6, 4, 2, 1, 8, 2, 5, 4, 8, 8, 4, 0, 0, 2, 3, 2,\n",
              "       7, 7, 0, 8, 7, 4, 4, 7, 9, 6, 9, 0, 9, 8, 0, 4, 6, 0, 6, 3, 5, 4,\n",
              "       8, 3, 3, 9, 3, 3, 3, 7, 8, 0, 8, 2, 1, 7, 0, 6, 5, 4, 3, 8, 0, 9,\n",
              "       6, 3, 8, 0, 9, 9, 6, 8, 6, 8, 5, 7, 8, 6, 0, 2, 4, 0, 2, 2, 3, 1,\n",
              "       9, 7, 5, 1, 0, 8, 4, 6, 2, 6, 7, 9, 3, 2, 9, 8, 2, 2, 9, 2, 7, 3,\n",
              "       5, 9, 1, 8, 0, 2, 0, 5, 2, 1, 3, 7, 6, 7, 1, 2, 5, 8, 0, 3, 7, 2,\n",
              "       4, 0, 9, 1, 8, 6, 7, 7, 4, 3, 4, 9, 1, 9, 5, 1, 7, 3, 9, 7, 6, 9,\n",
              "       1, 3, 7, 8, 3, 3, 6, 7, 2, 8, 5, 8, 5, 1, 1, 4, 4, 3, 1, 0, 7, 7,\n",
              "       0, 7, 9, 4, 4, 8, 5, 5, 4, 0, 8, 2, 1, 0, 8, 4, 5, 0, 4, 0, 6, 1,\n",
              "       7, 3, 2, 6, 7, 2, 6, 9, 3, 1, 4, 6, 2, 5, 4, 2, 0, 6, 2, 1, 7, 3,\n",
              "       4, 1, 0, 5, 4, 3, 1, 1, 7, 4, 9, 9, 4, 8, 4, 0, 2, 4, 5, 1, 1, 6,\n",
              "       4, 7, 1, 9, 4, 2, 4, 1, 5, 5, 3, 8, 3, 1, 4, 5, 6, 8, 9, 4, 1, 5,\n",
              "       3, 8, 0, 3, 2, 5, 1, 2, 8, 3, 4, 4, 0, 8, 8, 3, 3, 1, 7, 3, 5, 9,\n",
              "       6, 3, 2, 6, 1, 3, 6, 0, 7, 2, 1, 7, 1, 4, 2, 4, 2, 1, 7, 9, 6, 1,\n",
              "       1, 2, 4, 8, 1, 7, 7, 4, 8, 0, 7, 3, 1, 3, 1, 0, 7, 7, 0, 3, 5, 5,\n",
              "       2, 7, 6, 6, 9, 2, 8, 3, 5, 2, 2, 5, 6, 0, 8, 2, 9, 2, 8, 8, 8, 8,\n",
              "       7, 4, 9, 3, 0, 6, 6, 3, 2, 1, 3, 2, 2, 9, 3, 0, 0, 5, 7, 8, 1, 4,\n",
              "       4, 6, 0, 2, 9, 1, 4, 7, 4, 7, 3, 9, 8, 8, 4, 7, 1, 2, 1, 2, 2, 3,\n",
              "       2, 3, 2, 3, 9, 1, 7, 4, 0, 3, 5, 5, 8, 6, 3, 2, 6, 7, 6, 6, 3, 2,\n",
              "       7, 8, 1, 1, 7, 5, 6, 4, 9, 5, 1, 3, 3, 4, 7, 8, 9, 1, 1, 6, 9, 1,\n",
              "       4, 4, 5, 4, 0, 6, 2, 2, 3, 1, 5, 1, 2, 0, 3, 8, 1, 2, 6, 7, 1, 6,\n",
              "       2, 3, 9, 0, 1, 2, 2, 0, 8, 9], dtype=uint8)"
            ]
          },
          "metadata": {},
          "execution_count": 4
        }
      ]
    },
    {
      "cell_type": "code",
      "metadata": {
        "id": "FSIDfp0EQiS6",
        "colab": {
          "base_uri": "https://localhost:8080/",
          "height": 1000
        },
        "outputId": "3c348aac-7611-4337-fa17-5bc102e60172"
      },
      "source": [
        "for k in range(100):\n",
        "  plt.figure(figsize=(10,10))\n",
        "  plt.subplot(5,20, k+1)\n",
        "  plt.imshow(X_test[k], cmap='gray')\n",
        "  plt.xticks([]) #將x軸顯示為空\n",
        "  plt.yticks([]) #將y軸顯示為空\n",
        "  plt.title(k)  #設置圖片標題\n",
        "plt.tight_layout()\n",
        "#plt.show()"
      ],
      "execution_count": null,
      "outputs": [
        {
          "output_type": "stream",
          "name": "stderr",
          "text": [
            "/usr/local/lib/python3.7/dist-packages/ipykernel_launcher.py:2: RuntimeWarning: More than 20 figures have been opened. Figures created through the pyplot interface (`matplotlib.pyplot.figure`) are retained until explicitly closed and may consume too much memory. (To control this warning, see the rcParam `figure.max_open_warning`).\n",
            "  \n"
          ]
        },
        {
          "output_type": "display_data",
          "data": {
            "image/png": "[encoded data removed]",
            "text/plain": [
              "<Figure size 720x720 with 1 Axes>"
            ]
          },
          "metadata": {}
        },
        {
          "output_type": "display_data",
          "data": {
            "image/png": "[encoded data removed]",
            "text/plain": [
              "<Figure size 720x720 with 1 Axes>"
            ]
          },
          "metadata": {}
        },
        {
          "output_type": "display_data",
          "data": {
            "image/png": "[encoded data removed]",
            "text/plain": [
              "<Figure size 720x720 with 1 Axes>"
            ]
          },
          "metadata": {}
        },
        {
          "output_type": "display_data",
          "data": {
            "image/png": "[encoded data removed]",
            "text/plain": [
              "<Figure size 720x720 with 1 Axes>"
            ]
          },
          "metadata": {}
        },
        {
          "output_type": "display_data",
          "data": {
            "image/png": "[encoded data removed]",
            "text/plain": [
              "<Figure size 720x720 with 1 Axes>"
            ]
          },
          "metadata": {}
        },
        {
          "output_type": "display_data",
          "data": {
            "image/png": "[encoded data removed]",
            "text/plain": [
              "<Figure size 720x720 with 1 Axes>"
            ]
          },
          "metadata": {}
        },
        {
          "output_type": "display_data",
          "data": {
            "image/png": "[encoded data removed]",
            "text/plain": [
              "<Figure size 720x720 with 1 Axes>"
            ]
          },
          "metadata": {}
        },
        {
          "output_type": "display_data",
          "data": {
            "image/png": "[encoded data removed]",
            "text/plain": [
              "<Figure size 720x720 with 1 Axes>"
            ]
          },
          "metadata": {}
        },
        {
          "output_type": "display_data",
          "data": {
            "image/png": "[encoded data removed]",
            "text/plain": [
              "<Figure size 720x720 with 1 Axes>"
            ]
          },
          "metadata": {}
        },
        {
          "output_type": "display_data",
          "data": {
            "image/png": "[encoded data removed]",
            "text/plain": [
              "<Figure size 720x720 with 1 Axes>"
            ]
          },
          "metadata": {}
        },
        {
          "output_type": "display_data",
          "data": {
            "image/png": "[encoded data removed]",
            "text/plain": [
              "<Figure size 720x720 with 1 Axes>"
            ]
          },
          "metadata": {}
        },
        {
          "output_type": "display_data",
          "data": {
            "image/png": "[encoded data removed]",
            "text/plain": [
              "<Figure size 720x720 with 1 Axes>"
            ]
          },
          "metadata": {}
        },
        {
          "output_type": "display_data",
          "data": {
            "image/png": "[encoded data removed]",
            "text/plain": [
              "<Figure size 720x720 with 1 Axes>"
            ]
          },
          "metadata": {}
        },
        {
          "output_type": "display_data",
          "data": {
            "image/png": "[encoded data removed]",
            "text/plain": [
              "<Figure size 720x720 with 1 Axes>"
            ]
          },
          "metadata": {}
        },
        {
          "output_type": "display_data",
          "data": {
            "image/png": "[encoded data removed]",
            "text/plain": [
              "<Figure size 720x720 with 1 Axes>"
            ]
          },
          "metadata": {}
        },
        {
          "output_type": "display_data",
          "data": {
            "image/png": "[encoded data removed]",
            "text/plain": [
              "<Figure size 720x720 with 1 Axes>"
            ]
          },
          "metadata": {}
        },
        {
          "output_type": "display_data",
          "data": {
            "image/png": "[encoded data removed]",
            "text/plain": [
              "<Figure size 720x720 with 1 Axes>"
            ]
          },
          "metadata": {}
        },
        {
          "output_type": "display_data",
          "data": {
            "image/png": "[encoded data removed]",
            "text/plain": [
              "<Figure size 720x720 with 1 Axes>"
            ]
          },
          "metadata": {}
        },
        {
          "output_type": "display_data",
          "data": {
            "image/png": "[encoded data removed]",
            "text/plain": [
              "<Figure size 720x720 with 1 Axes>"
            ]
          },
          "metadata": {}
        },
        {
          "output_type": "display_data",
          "data": {
            "image/png": "[encoded data removed]",
            "text/plain": [
              "<Figure size 720x720 with 1 Axes>"
            ]
          },
          "metadata": {}
        },
        {
          "output_type": "display_data",
          "data": {
            "image/png": "[encoded data removed]",
            "text/plain": [
              "<Figure size 720x720 with 1 Axes>"
            ]
          },
          "metadata": {}
        },
        {
          "output_type": "display_data",
          "data": {
            "image/png": "[encoded data removed]",
            "text/plain": [
              "<Figure size 720x720 with 1 Axes>"
            ]
          },
          "metadata": {}
        },
        {
          "output_type": "display_data",
          "data": {
            "image/png": "[encoded data removed]",
            "text/plain": [
              "<Figure size 720x720 with 1 Axes>"
            ]
          },
          "metadata": {}
        },
        {
          "output_type": "display_data",
          "data": {
            "image/png": "[encoded data removed]",
            "text/plain": [
              "<Figure size 720x720 with 1 Axes>"
            ]
          },
          "metadata": {}
        },
        {
          "output_type": "display_data",
          "data": {
            "image/png": "[encoded data removed]",
            "text/plain": [
              "<Figure size 720x720 with 1 Axes>"
            ]
          },
          "metadata": {}
        },
        {
          "output_type": "display_data",
          "data": {
            "image/png": "[encoded data removed]",
            "text/plain": [
              "<Figure size 720x720 with 1 Axes>"
            ]
          },
          "metadata": {}
        },
        {
          "output_type": "display_data",
          "data": {
            "image/png": "[encoded data removed]",
            "text/plain": [
              "<Figure size 720x720 with 1 Axes>"
            ]
          },
          "metadata": {}
        },
        {
          "output_type": "display_data",
          "data": {
            "image/png": "[encoded data removed]",
            "text/plain": [
              "<Figure size 720x720 with 1 Axes>"
            ]
          },
          "metadata": {}
        },
        {
          "output_type": "display_data",
          "data": {
            "image/png": "[encoded data removed]",
            "text/plain": [
              "<Figure size 720x720 with 1 Axes>"
            ]
          },
          "metadata": {}
        },
        {
          "output_type": "display_data",
          "data": {
            "image/png": "[encoded data removed]",
            "text/plain": [
              "<Figure size 720x720 with 1 Axes>"
            ]
          },
          "metadata": {}
        },
        {
          "output_type": "display_data",
          "data": {
            "image/png": "[encoded data removed]",
            "text/plain": [
              "<Figure size 720x720 with 1 Axes>"
            ]
          },
          "metadata": {}
        },
        {
          "output_type": "display_data",
          "data": {
            "image/png": "[encoded data removed]",
            "text/plain": [
              "<Figure size 720x720 with 1 Axes>"
            ]
          },
          "metadata": {}
        },
        {
          "output_type": "display_data",
          "data": {
            "image/png": "[encoded data removed]",
            "text/plain": [
              "<Figure size 720x720 with 1 Axes>"
            ]
          },
          "metadata": {}
        },
        {
          "output_type": "display_data",
          "data": {
            "image/png": "[encoded data removed]",
            "text/plain": [
              "<Figure size 720x720 with 1 Axes>"
            ]
          },
          "metadata": {}
        },
        {
          "output_type": "display_data",
          "data": {
            "image/png": "[encoded data removed]",
            "text/plain": [
              "<Figure size 720x720 with 1 Axes>"
            ]
          },
          "metadata": {}
        },
        {
          "output_type": "display_data",
          "data": {
            "image/png": "[encoded data removed]",
            "text/plain": [
              "<Figure size 720x720 with 1 Axes>"
            ]
          },
          "metadata": {}
        },
        {
          "output_type": "display_data",
          "data": {
            "image/png": "[encoded data removed]",
            "text/plain": [
              "<Figure size 720x720 with 1 Axes>"
            ]
          },
          "metadata": {}
        },
        {
          "output_type": "display_data",
          "data": {
            "image/png": "[encoded data removed]",
            "text/plain": [
              "<Figure size 720x720 with 1 Axes>"
            ]
          },
          "metadata": {}
        },
        {
          "output_type": "display_data",
          "data": {
            "image/png": "[encoded data removed]",
            "text/plain": [
              "<Figure size 720x720 with 1 Axes>"
            ]
          },
          "metadata": {}
        },
        {
          "output_type": "display_data",
          "data": {
            "image/png": "[encoded data removed]",
            "text/plain": [
              "<Figure size 720x720 with 1 Axes>"
            ]
          },
          "metadata": {}
        },
        {
          "output_type": "display_data",
          "data": {
            "image/png": "[encoded data removed]",
            "text/plain": [
              "<Figure size 720x720 with 1 Axes>"
            ]
          },
          "metadata": {}
        },
        {
          "output_type": "display_data",
          "data": {
            "image/png": "[encoded data removed]",
            "text/plain": [
              "<Figure size 720x720 with 1 Axes>"
            ]
          },
          "metadata": {}
        },
        {
          "output_type": "display_data",
          "data": {
            "image/png": "[encoded data removed]",
            "text/plain": [
              "<Figure size 720x720 with 1 Axes>"
            ]
          },
          "metadata": {}
        },
        {
          "output_type": "display_data",
          "data": {
            "image/png": "[encoded data removed]",
            "text/plain": [
              "<Figure size 720x720 with 1 Axes>"
            ]
          },
          "metadata": {}
        },
        {
          "output_type": "display_data",
          "data": {
            "image/png": "[encoded data removed]",
            "text/plain": [
              "<Figure size 720x720 with 1 Axes>"
            ]
          },
          "metadata": {}
        },
        {
          "output_type": "display_data",
          "data": {
            "image/png": "[encoded data removed]",
            "text/plain": [
              "<Figure size 720x720 with 1 Axes>"
            ]
          },
          "metadata": {}
        },
        {
          "output_type": "display_data",
          "data": {
            "image/png": "[encoded data removed]",
            "text/plain": [
              "<Figure size 720x720 with 1 Axes>"
            ]
          },
          "metadata": {}
        },
        {
          "output_type": "display_data",
          "data": {
            "image/png": "[encoded data removed]",
            "text/plain": [
              "<Figure size 720x720 with 1 Axes>"
            ]
          },
          "metadata": {}
        },
        {
          "output_type": "display_data",
          "data": {
            "image/png": "[encoded data removed]",
            "text/plain": [
              "<Figure size 720x720 with 1 Axes>"
            ]
          },
          "metadata": {}
        },
        {
          "output_type": "display_data",
          "data": {
            "image/png": "[encoded data removed]",
            "text/plain": [
              "<Figure size 720x720 with 1 Axes>"
            ]
          },
          "metadata": {}
        },
        {
          "output_type": "display_data",
          "data": {
            "image/png": "[encoded data removed]",
            "text/plain": [
              "<Figure size 720x720 with 1 Axes>"
            ]
          },
          "metadata": {}
        },
        {
          "output_type": "display_data",
          "data": {
            "image/png": "[encoded data removed]",
            "text/plain": [
              "<Figure size 720x720 with 1 Axes>"
            ]
          },
          "metadata": {}
        },
        {
          "output_type": "display_data",
          "data": {
            "image/png": "[encoded data removed]",
            "text/plain": [
              "<Figure size 720x720 with 1 Axes>"
            ]
          },
          "metadata": {}
        },
        {
          "output_type": "display_data",
          "data": {
            "image/png": "[encoded data removed]",
            "text/plain": [
              "<Figure size 720x720 with 1 Axes>"
            ]
          },
          "metadata": {}
        },
        {
          "output_type": "display_data",
          "data": {
            "image/png": "[encoded data removed]",
            "text/plain": [
              "<Figure size 720x720 with 1 Axes>"
            ]
          },
          "metadata": {}
        },
        {
          "output_type": "display_data",
          "data": {
            "image/png": "[encoded data removed]",
            "text/plain": [
              "<Figure size 720x720 with 1 Axes>"
            ]
          },
          "metadata": {}
        },
        {
          "output_type": "display_data",
          "data": {
            "image/png": "[encoded data removed]",
            "text/plain": [
              "<Figure size 720x720 with 1 Axes>"
            ]
          },
          "metadata": {}
        },
        {
          "output_type": "display_data",
          "data": {
            "image/png": "[encoded data removed]",
            "text/plain": [
              "<Figure size 720x720 with 1 Axes>"
            ]
          },
          "metadata": {}
        },
        {
          "output_type": "display_data",
          "data": {
            "image/png": "[encoded data removed]",
            "text/plain": [
              "<Figure size 720x720 with 1 Axes>"
            ]
          },
          "metadata": {}
        },
        {
          "output_type": "display_data",
          "data": {
            "image/png": "[encoded data removed]",
            "text/plain": [
              "<Figure size 720x720 with 1 Axes>"
            ]
          },
          "metadata": {}
        },
        {
          "output_type": "display_data",
          "data": {
            "image/png": "[encoded data removed]",
            "text/plain": [
              "<Figure size 720x720 with 1 Axes>"
            ]
          },
          "metadata": {}
        },
        {
          "output_type": "display_data",
          "data": {
            "image/png": "[encoded data removed]",
            "text/plain": [
              "<Figure size 720x720 with 1 Axes>"
            ]
          },
          "metadata": {}
        },
        {
          "output_type": "display_data",
          "data": {
            "image/png": "[encoded data removed]",
            "text/plain": [
              "<Figure size 720x720 with 1 Axes>"
            ]
          },
          "metadata": {}
        },
        {
          "output_type": "display_data",
          "data": {
            "image/png": "[encoded data removed]",
            "text/plain": [
              "<Figure size 720x720 with 1 Axes>"
            ]
          },
          "metadata": {}
        },
        {
          "output_type": "display_data",
          "data": {
            "image/png": "[encoded data removed]",
            "text/plain": [
              "<Figure size 720x720 with 1 Axes>"
            ]
          },
          "metadata": {}
        },
        {
          "output_type": "display_data",
          "data": {
            "image/png": "[encoded data removed]",
            "text/plain": [
              "<Figure size 720x720 with 1 Axes>"
            ]
          },
          "metadata": {}
        },
        {
          "output_type": "display_data",
          "data": {
            "image/png": "[encoded data removed]",
            "text/plain": [
              "<Figure size 720x720 with 1 Axes>"
            ]
          },
          "metadata": {}
        },
        {
          "output_type": "display_data",
          "data": {
            "image/png": "[encoded data removed]",
            "text/plain": [
              "<Figure size 720x720 with 1 Axes>"
            ]
          },
          "metadata": {}
        },
        {
          "output_type": "display_data",
          "data": {
            "image/png": "[encoded data removed]",
            "text/plain": [
              "<Figure size 720x720 with 1 Axes>"
            ]
          },
          "metadata": {}
        },
        {
          "output_type": "display_data",
          "data": {
            "image/png": "[encoded data removed]",
            "text/plain": [
              "<Figure size 720x720 with 1 Axes>"
            ]
          },
          "metadata": {}
        },
        {
          "output_type": "display_data",
          "data": {
            "image/png": "[encoded data removed]",
            "text/plain": [
              "<Figure size 720x720 with 1 Axes>"
            ]
          },
          "metadata": {}
        },
        {
          "output_type": "display_data",
          "data": {
            "image/png": "[encoded data removed]",
            "text/plain": [
              "<Figure size 720x720 with 1 Axes>"
            ]
          },
          "metadata": {}
        },
        {
          "output_type": "display_data",
          "data": {
            "image/png": "[encoded data removed]",
            "text/plain": [
              "<Figure size 720x720 with 1 Axes>"
            ]
          },
          "metadata": {}
        },
        {
          "output_type": "display_data",
          "data": {
            "image/png": "[encoded data removed]",
            "text/plain": [
              "<Figure size 720x720 with 1 Axes>"
            ]
          },
          "metadata": {}
        },
        {
          "output_type": "display_data",
          "data": {
            "image/png": "[encoded data removed]",
            "text/plain": [
              "<Figure size 720x720 with 1 Axes>"
            ]
          },
          "metadata": {}
        },
        {
          "output_type": "display_data",
          "data": {
            "image/png": "[encoded data removed]",
            "text/plain": [
              "<Figure size 720x720 with 1 Axes>"
            ]
          },
          "metadata": {}
        },
        {
          "output_type": "display_data",
          "data": {
            "image/png": "[encoded data removed]",
            "text/plain": [
              "<Figure size 720x720 with 1 Axes>"
            ]
          },
          "metadata": {}
        },
        {
          "output_type": "display_data",
          "data": {
            "image/png": "[encoded data removed]",
            "text/plain": [
              "<Figure size 720x720 with 1 Axes>"
            ]
          },
          "metadata": {}
        },
        {
          "output_type": "display_data",
          "data": {
            "image/png": "[encoded data removed]",
            "text/plain": [
              "<Figure size 720x720 with 1 Axes>"
            ]
          },
          "metadata": {}
        },
        {
          "output_type": "display_data",
          "data": {
            "image/png": "[encoded data removed]",
            "text/plain": [
              "<Figure size 720x720 with 1 Axes>"
            ]
          },
          "metadata": {}
        },
        {
          "output_type": "display_data",
          "data": {
            "image/png": "[encoded data removed]",
            "text/plain": [
              "<Figure size 720x720 with 1 Axes>"
            ]
          },
          "metadata": {}
        },
        {
          "output_type": "display_data",
          "data": {
            "image/png": "[encoded data removed]",
            "text/plain": [
              "<Figure size 720x720 with 1 Axes>"
            ]
          },
          "metadata": {}
        },
        {
          "output_type": "display_data",
          "data": {
            "image/png": "[encoded data removed]",
            "text/plain": [
              "<Figure size 720x720 with 1 Axes>"
            ]
          },
          "metadata": {}
        },
        {
          "output_type": "display_data",
          "data": {
            "image/png": "[encoded data removed]",
            "text/plain": [
              "<Figure size 720x720 with 1 Axes>"
            ]
          },
          "metadata": {}
        },
        {
          "output_type": "display_data",
          "data": {
            "image/png": "[encoded data removed]",
            "text/plain": [
              "<Figure size 720x720 with 1 Axes>"
            ]
          },
          "metadata": {}
        },
        {
          "output_type": "display_data",
          "data": {
            "image/png": "[encoded data removed]",
            "text/plain": [
              "<Figure size 720x720 with 1 Axes>"
            ]
          },
          "metadata": {}
        },
        {
          "output_type": "display_data",
          "data": {
            "image/png": "[encoded data removed]",
            "text/plain": [
              "<Figure size 720x720 with 1 Axes>"
            ]
          },
          "metadata": {}
        },
        {
          "output_type": "display_data",
          "data": {
            "image/png": "[encoded data removed]",
            "text/plain": [
              "<Figure size 720x720 with 1 Axes>"
            ]
          },
          "metadata": {}
        },
        {
          "output_type": "display_data",
          "data": {
            "image/png": "[encoded data removed]",
            "text/plain": [
              "<Figure size 720x720 with 1 Axes>"
            ]
          },
          "metadata": {}
        },
        {
          "output_type": "display_data",
          "data": {
            "image/png": "[encoded data removed]",
            "text/plain": [
              "<Figure size 720x720 with 1 Axes>"
            ]
          },
          "metadata": {}
        },
        {
          "output_type": "display_data",
          "data": {
            "image/png": "[encoded data removed]",
            "text/plain": [
              "<Figure size 720x720 with 1 Axes>"
            ]
          },
          "metadata": {}
        },
        {
          "output_type": "display_data",
          "data": {
            "image/png": "[encoded data removed]",
            "text/plain": [
              "<Figure size 720x720 with 1 Axes>"
            ]
          },
          "metadata": {}
        },
        {
          "output_type": "display_data",
          "data": {
            "image/png": "[encoded data removed]",
            "text/plain": [
              "<Figure size 720x720 with 1 Axes>"
            ]
          },
          "metadata": {}
        },
        {
          "output_type": "display_data",
          "data": {
            "image/png": "[encoded data removed]",
            "text/plain": [
              "<Figure size 720x720 with 1 Axes>"
            ]
          },
          "metadata": {}
        },
        {
          "output_type": "display_data",
          "data": {
            "image/png": "[encoded data removed]",
            "text/plain": [
              "<Figure size 720x720 with 1 Axes>"
            ]
          },
          "metadata": {}
        },
        {
          "output_type": "display_data",
          "data": {
            "image/png": "[encoded data removed]",
            "text/plain": [
              "<Figure size 720x720 with 1 Axes>"
            ]
          },
          "metadata": {}
        },
        {
          "output_type": "display_data",
          "data": {
            "image/png": "[encoded data removed]",
            "text/plain": [
              "<Figure size 720x720 with 1 Axes>"
            ]
          },
          "metadata": {}
        },
        {
          "output_type": "display_data",
          "data": {
            "image/png": "[encoded data removed]",
            "text/plain": [
              "<Figure size 720x720 with 1 Axes>"
            ]
          },
          "metadata": {}
        },
        {
          "output_type": "display_data",
          "data": {
            "image/png": "[encoded data removed]",
            "text/plain": [
              "<Figure size 720x720 with 1 Axes>"
            ]
          },
          "metadata": {}
        },
        {
          "output_type": "display_data",
          "data": {
            "image/png": "[encoded data removed]",
            "text/plain": [
              "<Figure size 720x720 with 1 Axes>"
            ]
          },
          "metadata": {}
        }
      ]
    },
    {
      "cell_type": "markdown",
      "metadata": {
        "id": "Pzb4rn2eQmo6"
      },
      "source": [
        "# 資料預處理"
      ]
    },
    {
      "cell_type": "code",
      "metadata": {
        "id": "7egvDL-uQkHx",
        "colab": {
          "base_uri": "https://localhost:8080/"
        },
        "outputId": "d299c0aa-3c60-418e-cbcb-1e3d6dc9de00"
      },
      "source": [
        "X_train.shape"
      ],
      "execution_count": null,
      "outputs": [
        {
          "output_type": "execute_result",
          "data": {
            "text/plain": [
              "(60000, 28, 28)"
            ]
          },
          "metadata": {},
          "execution_count": 181
        }
      ]
    },
    {
      "cell_type": "code",
      "metadata": {
        "id": "3DPC-PrjQpKB",
        "colab": {
          "base_uri": "https://localhost:8080/"
        },
        "outputId": "3fd8b3d4-ce07-4d4d-b2aa-0854bdfdd781"
      },
      "source": [
        "X_train=X_train.reshape(60000, 784).astype('float32')\n",
        "X_test=X_test.reshape(10000, 784).astype('float32')\n",
        "\n",
        "X_train.dtype"
      ],
      "execution_count": null,
      "outputs": [
        {
          "output_type": "execute_result",
          "data": {
            "text/plain": [
              "dtype('float32')"
            ]
          },
          "metadata": {},
          "execution_count": 182
        }
      ]
    },
    {
      "cell_type": "markdown",
      "metadata": {
        "id": "bi1nwJVhWmjI"
      },
      "source": [
        "### 正規化"
      ]
    },
    {
      "cell_type": "code",
      "metadata": {
        "id": "MC0FGLrKQr5I"
      },
      "source": [
        "X_train = X_train/255 \n",
        "X_test = X_test/255"
      ],
      "execution_count": null,
      "outputs": []
    },
    {
      "cell_type": "code",
      "metadata": {
        "id": "KmAZ-4-4QuYe",
        "colab": {
          "base_uri": "https://localhost:8080/"
        },
        "outputId": "421266bd-c4d6-41cd-e67c-445afbabbd84"
      },
      "source": [
        "np.max(X_train)"
      ],
      "execution_count": null,
      "outputs": [
        {
          "output_type": "execute_result",
          "data": {
            "text/plain": [
              "1.0"
            ]
          },
          "metadata": {},
          "execution_count": 184
        }
      ]
    },
    {
      "cell_type": "code",
      "metadata": {
        "id": "3b0dMkjTQyTa",
        "colab": {
          "base_uri": "https://localhost:8080/"
        },
        "outputId": "552a3131-2aa9-4e45-8c25-5bc05f9281e2"
      },
      "source": [
        "np.set_printoptions(linewidth=180) \n",
        "#X_train[0]\n",
        "np.round(X_train[0],2)"
      ],
      "execution_count": null,
      "outputs": [
        {
          "output_type": "execute_result",
          "data": {
            "text/plain": [
              "array([0.  , 0.  , 0.  , 0.  , 0.  , 0.  , 0.  , 0.  , 0.  , 0.  , 0.  , 0.  , 0.  , 0.  , 0.  , 0.  , 0.  , 0.  , 0.  , 0.  , 0.  , 0.  , 0.  , 0.  , 0.  , 0.  , 0.  , 0.  ,\n",
              "       0.  , 0.  , 0.  , 0.  , 0.  , 0.  , 0.  , 0.  , 0.  , 0.  , 0.  , 0.  , 0.  , 0.  , 0.  , 0.  , 0.  , 0.  , 0.  , 0.  , 0.  , 0.  , 0.  , 0.  , 0.  , 0.  , 0.  , 0.  ,\n",
              "       0.  , 0.  , 0.  , 0.  , 0.  , 0.  , 0.  , 0.  , 0.  , 0.  , 0.  , 0.  , 0.  , 0.  , 0.  , 0.  , 0.  , 0.  , 0.  , 0.  , 0.  , 0.  , 0.  , 0.  , 0.  , 0.  , 0.  , 0.  ,\n",
              "       0.  , 0.  , 0.  , 0.  , 0.  , 0.  , 0.  , 0.  , 0.  , 0.  , 0.  , 0.  , 0.  , 0.  , 0.  , 0.  , 0.  , 0.  , 0.  , 0.  , 0.  , 0.  , 0.  , 0.  , 0.  , 0.  , 0.  , 0.  ,\n",
              "       0.  , 0.  , 0.  , 0.  , 0.  , 0.  , 0.  , 0.  , 0.  , 0.  , 0.  , 0.  , 0.  , 0.  , 0.  , 0.  , 0.  , 0.  , 0.  , 0.  , 0.  , 0.  , 0.  , 0.  , 0.  , 0.  , 0.  , 0.  ,\n",
              "       0.  , 0.  , 0.  , 0.  , 0.  , 0.  , 0.  , 0.  , 0.  , 0.  , 0.  , 0.  , 0.01, 0.07, 0.07, 0.07, 0.49, 0.53, 0.69, 0.1 , 0.65, 1.  , 0.97, 0.5 , 0.  , 0.  , 0.  , 0.  ,\n",
              "       0.  , 0.  , 0.  , 0.  , 0.  , 0.  , 0.  , 0.  , 0.12, 0.14, 0.37, 0.6 , 0.67, 0.99, 0.99, 0.99, 0.99, 0.99, 0.88, 0.67, 0.99, 0.95, 0.76, 0.25, 0.  , 0.  , 0.  , 0.  ,\n",
              "       0.  , 0.  , 0.  , 0.  , 0.  , 0.  , 0.  , 0.19, 0.93, 0.99, 0.99, 0.99, 0.99, 0.99, 0.99, 0.99, 0.99, 0.98, 0.36, 0.32, 0.32, 0.22, 0.15, 0.  , 0.  , 0.  , 0.  , 0.  ,\n",
              "       0.  , 0.  , 0.  , 0.  , 0.  , 0.  , 0.  , 0.07, 0.86, 0.99, 0.99, 0.99, 0.99, 0.99, 0.78, 0.71, 0.97, 0.95, 0.  , 0.  , 0.  , 0.  , 0.  , 0.  , 0.  , 0.  , 0.  , 0.  ,\n",
              "       0.  , 0.  , 0.  , 0.  , 0.  , 0.  , 0.  , 0.  , 0.31, 0.61, 0.42, 0.99, 0.99, 0.8 , 0.04, 0.  , 0.17, 0.6 , 0.  , 0.  , 0.  , 0.  , 0.  , 0.  , 0.  , 0.  , 0.  , 0.  ,\n",
              "       0.  , 0.  , 0.  , 0.  , 0.  , 0.  , 0.  , 0.  , 0.  , 0.05, 0.  , 0.6 , 0.99, 0.35, 0.  , 0.  , 0.  , 0.  , 0.  , 0.  , 0.  , 0.  , 0.  , 0.  , 0.  , 0.  , 0.  , 0.  ,\n",
              "       0.  , 0.  , 0.  , 0.  , 0.  , 0.  , 0.  , 0.  , 0.  , 0.  , 0.  , 0.55, 0.99, 0.75, 0.01, 0.  , 0.  , 0.  , 0.  , 0.  , 0.  , 0.  , 0.  , 0.  , 0.  , 0.  , 0.  , 0.  ,\n",
              "       0.  , 0.  , 0.  , 0.  , 0.  , 0.  , 0.  , 0.  , 0.  , 0.  , 0.  , 0.04, 0.75, 0.99, 0.27, 0.  , 0.  , 0.  , 0.  , 0.  , 0.  , 0.  , 0.  , 0.  , 0.  , 0.  , 0.  , 0.  ,\n",
              "       0.  , 0.  , 0.  , 0.  , 0.  , 0.  , 0.  , 0.  , 0.  , 0.  , 0.  , 0.  , 0.14, 0.95, 0.88, 0.63, 0.42, 0.  , 0.  , 0.  , 0.  , 0.  , 0.  , 0.  , 0.  , 0.  , 0.  , 0.  ,\n",
              "       0.  , 0.  , 0.  , 0.  , 0.  , 0.  , 0.  , 0.  , 0.  , 0.  , 0.  , 0.  , 0.  , 0.32, 0.94, 0.99, 0.99, 0.47, 0.1 , 0.  , 0.  , 0.  , 0.  , 0.  , 0.  , 0.  , 0.  , 0.  ,\n",
              "       0.  , 0.  , 0.  , 0.  , 0.  , 0.  , 0.  , 0.  , 0.  , 0.  , 0.  , 0.  , 0.  , 0.  , 0.18, 0.73, 0.99, 0.99, 0.59, 0.11, 0.  , 0.  , 0.  , 0.  , 0.  , 0.  , 0.  , 0.  ,\n",
              "       0.  , 0.  , 0.  , 0.  , 0.  , 0.  , 0.  , 0.  , 0.  , 0.  , 0.  , 0.  , 0.  , 0.  , 0.  , 0.06, 0.36, 0.99, 0.99, 0.73, 0.  , 0.  , 0.  , 0.  , 0.  , 0.  , 0.  , 0.  ,\n",
              "       0.  , 0.  , 0.  , 0.  , 0.  , 0.  , 0.  , 0.  , 0.  , 0.  , 0.  , 0.  , 0.  , 0.  , 0.  , 0.  , 0.  , 0.98, 0.99, 0.98, 0.25, 0.  , 0.  , 0.  , 0.  , 0.  , 0.  , 0.  ,\n",
              "       0.  , 0.  , 0.  , 0.  , 0.  , 0.  , 0.  , 0.  , 0.  , 0.  , 0.  , 0.  , 0.  , 0.  , 0.18, 0.51, 0.72, 0.99, 0.99, 0.81, 0.01, 0.  , 0.  , 0.  , 0.  , 0.  , 0.  , 0.  ,\n",
              "       0.  , 0.  , 0.  , 0.  , 0.  , 0.  , 0.  , 0.  , 0.  , 0.  , 0.  , 0.  , 0.15, 0.58, 0.9 , 0.99, 0.99, 0.99, 0.98, 0.71, 0.  , 0.  , 0.  , 0.  , 0.  , 0.  , 0.  , 0.  ,\n",
              "       0.  , 0.  , 0.  , 0.  , 0.  , 0.  , 0.  , 0.  , 0.  , 0.  , 0.09, 0.45, 0.87, 0.99, 0.99, 0.99, 0.99, 0.79, 0.31, 0.  , 0.  , 0.  , 0.  , 0.  , 0.  , 0.  , 0.  , 0.  ,\n",
              "       0.  , 0.  , 0.  , 0.  , 0.  , 0.  , 0.  , 0.  , 0.09, 0.26, 0.84, 0.99, 0.99, 0.99, 0.99, 0.78, 0.32, 0.01, 0.  , 0.  , 0.  , 0.  , 0.  , 0.  , 0.  , 0.  , 0.  , 0.  ,\n",
              "       0.  , 0.  , 0.  , 0.  , 0.  , 0.  , 0.07, 0.67, 0.86, 0.99, 0.99, 0.99, 0.99, 0.76, 0.31, 0.04, 0.  , 0.  , 0.  , 0.  , 0.  , 0.  , 0.  , 0.  , 0.  , 0.  , 0.  , 0.  ,\n",
              "       0.  , 0.  , 0.  , 0.  , 0.22, 0.67, 0.89, 0.99, 0.99, 0.99, 0.99, 0.96, 0.52, 0.04, 0.  , 0.  , 0.  , 0.  , 0.  , 0.  , 0.  , 0.  , 0.  , 0.  , 0.  , 0.  , 0.  , 0.  ,\n",
              "       0.  , 0.  , 0.  , 0.  , 0.53, 0.99, 0.99, 0.99, 0.83, 0.53, 0.52, 0.06, 0.  , 0.  , 0.  , 0.  , 0.  , 0.  , 0.  , 0.  , 0.  , 0.  , 0.  , 0.  , 0.  , 0.  , 0.  , 0.  ,\n",
              "       0.  , 0.  , 0.  , 0.  , 0.  , 0.  , 0.  , 0.  , 0.  , 0.  , 0.  , 0.  , 0.  , 0.  , 0.  , 0.  , 0.  , 0.  , 0.  , 0.  , 0.  , 0.  , 0.  , 0.  , 0.  , 0.  , 0.  , 0.  ,\n",
              "       0.  , 0.  , 0.  , 0.  , 0.  , 0.  , 0.  , 0.  , 0.  , 0.  , 0.  , 0.  , 0.  , 0.  , 0.  , 0.  , 0.  , 0.  , 0.  , 0.  , 0.  , 0.  , 0.  , 0.  , 0.  , 0.  , 0.  , 0.  ,\n",
              "       0.  , 0.  , 0.  , 0.  , 0.  , 0.  , 0.  , 0.  , 0.  , 0.  , 0.  , 0.  , 0.  , 0.  , 0.  , 0.  , 0.  , 0.  , 0.  , 0.  , 0.  , 0.  , 0.  , 0.  , 0.  , 0.  , 0.  , 0.  ],\n",
              "      dtype=float32)"
            ]
          },
          "metadata": {},
          "execution_count": 185
        }
      ]
    },
    {
      "cell_type": "code",
      "metadata": {
        "colab": {
          "base_uri": "https://localhost:8080/"
        },
        "id": "0WmzfcuFGkIt",
        "outputId": "ab076371-cb2a-497c-a594-9de173f19a7c"
      },
      "source": [
        "np.set_printoptions(linewidth=180) \n",
        "#X_train[0]\n",
        "np.round(X_test[0],2)"
      ],
      "execution_count": null,
      "outputs": [
        {
          "output_type": "execute_result",
          "data": {
            "text/plain": [
              "array([0.  , 0.  , 0.  , 0.  , 0.  , 0.  , 0.  , 0.  , 0.  , 0.  , 0.  , 0.  , 0.  , 0.  , 0.  , 0.  , 0.  , 0.  , 0.  , 0.  , 0.  , 0.  , 0.  , 0.  , 0.  , 0.  , 0.  , 0.  ,\n",
              "       0.  , 0.  , 0.  , 0.  , 0.  , 0.  , 0.  , 0.  , 0.  , 0.  , 0.  , 0.  , 0.  , 0.  , 0.  , 0.  , 0.  , 0.  , 0.  , 0.  , 0.  , 0.  , 0.  , 0.  , 0.  , 0.  , 0.  , 0.  ,\n",
              "       0.  , 0.  , 0.  , 0.  , 0.  , 0.  , 0.  , 0.  , 0.  , 0.  , 0.  , 0.  , 0.  , 0.  , 0.  , 0.  , 0.  , 0.  , 0.  , 0.  , 0.  , 0.  , 0.  , 0.  , 0.  , 0.  , 0.  , 0.  ,\n",
              "       0.  , 0.  , 0.  , 0.  , 0.  , 0.  , 0.  , 0.  , 0.  , 0.  , 0.  , 0.  , 0.  , 0.  , 0.  , 0.  , 0.  , 0.  , 0.  , 0.  , 0.  , 0.  , 0.  , 0.  , 0.  , 0.  , 0.  , 0.  ,\n",
              "       0.  , 0.  , 0.  , 0.  , 0.  , 0.  , 0.  , 0.  , 0.  , 0.  , 0.  , 0.  , 0.  , 0.  , 0.  , 0.  , 0.  , 0.  , 0.  , 0.  , 0.  , 0.  , 0.  , 0.  , 0.  , 0.  , 0.  , 0.  ,\n",
              "       0.  , 0.  , 0.  , 0.  , 0.  , 0.  , 0.  , 0.  , 0.  , 0.  , 0.  , 0.  , 0.  , 0.  , 0.  , 0.  , 0.  , 0.  , 0.  , 0.  , 0.  , 0.  , 0.  , 0.  , 0.  , 0.  , 0.  , 0.  ,\n",
              "       0.  , 0.  , 0.  , 0.  , 0.  , 0.  , 0.  , 0.  , 0.  , 0.  , 0.  , 0.  , 0.  , 0.  , 0.  , 0.  , 0.  , 0.  , 0.  , 0.  , 0.  , 0.  , 0.  , 0.  , 0.  , 0.  , 0.  , 0.  ,\n",
              "       0.  , 0.  , 0.  , 0.  , 0.  , 0.  , 0.33, 0.73, 0.62, 0.59, 0.24, 0.14, 0.  , 0.  , 0.  , 0.  , 0.  , 0.  , 0.  , 0.  , 0.  , 0.  , 0.  , 0.  , 0.  , 0.  , 0.  , 0.  ,\n",
              "       0.  , 0.  , 0.  , 0.  , 0.  , 0.  , 0.87, 1.  , 1.  , 1.  , 1.  , 0.95, 0.78, 0.78, 0.78, 0.78, 0.78, 0.78, 0.78, 0.78, 0.67, 0.2 , 0.  , 0.  , 0.  , 0.  , 0.  , 0.  ,\n",
              "       0.  , 0.  , 0.  , 0.  , 0.  , 0.  , 0.26, 0.45, 0.28, 0.45, 0.64, 0.89, 1.  , 0.88, 1.  , 1.  , 1.  , 0.98, 0.9 , 1.  , 1.  , 0.55, 0.  , 0.  , 0.  , 0.  , 0.  , 0.  ,\n",
              "       0.  , 0.  , 0.  , 0.  , 0.  , 0.  , 0.  , 0.  , 0.  , 0.  , 0.  , 0.07, 0.26, 0.05, 0.26, 0.26, 0.26, 0.23, 0.08, 0.93, 1.  , 0.42, 0.  , 0.  , 0.  , 0.  , 0.  , 0.  ,\n",
              "       0.  , 0.  , 0.  , 0.  , 0.  , 0.  , 0.  , 0.  , 0.  , 0.  , 0.  , 0.  , 0.  , 0.  , 0.  , 0.  , 0.  , 0.  , 0.33, 0.99, 0.82, 0.07, 0.  , 0.  , 0.  , 0.  , 0.  , 0.  ,\n",
              "       0.  , 0.  , 0.  , 0.  , 0.  , 0.  , 0.  , 0.  , 0.  , 0.  , 0.  , 0.  , 0.  , 0.  , 0.  , 0.  , 0.  , 0.09, 0.91, 1.  , 0.33, 0.  , 0.  , 0.  , 0.  , 0.  , 0.  , 0.  ,\n",
              "       0.  , 0.  , 0.  , 0.  , 0.  , 0.  , 0.  , 0.  , 0.  , 0.  , 0.  , 0.  , 0.  , 0.  , 0.  , 0.  , 0.  , 0.51, 1.  , 0.93, 0.17, 0.  , 0.  , 0.  , 0.  , 0.  , 0.  , 0.  ,\n",
              "       0.  , 0.  , 0.  , 0.  , 0.  , 0.  , 0.  , 0.  , 0.  , 0.  , 0.  , 0.  , 0.  , 0.  , 0.  , 0.  , 0.23, 0.98, 1.  , 0.24, 0.  , 0.  , 0.  , 0.  , 0.  , 0.  , 0.  , 0.  ,\n",
              "       0.  , 0.  , 0.  , 0.  , 0.  , 0.  , 0.  , 0.  , 0.  , 0.  , 0.  , 0.  , 0.  , 0.  , 0.  , 0.  , 0.52, 1.  , 0.73, 0.02, 0.  , 0.  , 0.  , 0.  , 0.  , 0.  , 0.  , 0.  ,\n",
              "       0.  , 0.  , 0.  , 0.  , 0.  , 0.  , 0.  , 0.  , 0.  , 0.  , 0.  , 0.  , 0.  , 0.  , 0.  , 0.04, 0.8 , 0.97, 0.23, 0.  , 0.  , 0.  , 0.  , 0.  , 0.  , 0.  , 0.  , 0.  ,\n",
              "       0.  , 0.  , 0.  , 0.  , 0.  , 0.  , 0.  , 0.  , 0.  , 0.  , 0.  , 0.  , 0.  , 0.  , 0.  , 0.49, 1.  , 0.71, 0.  , 0.  , 0.  , 0.  , 0.  , 0.  , 0.  , 0.  , 0.  , 0.  ,\n",
              "       0.  , 0.  , 0.  , 0.  , 0.  , 0.  , 0.  , 0.  , 0.  , 0.  , 0.  , 0.  , 0.  , 0.  , 0.29, 0.98, 0.94, 0.22, 0.  , 0.  , 0.  , 0.  , 0.  , 0.  , 0.  , 0.  , 0.  , 0.  ,\n",
              "       0.  , 0.  , 0.  , 0.  , 0.  , 0.  , 0.  , 0.  , 0.  , 0.  , 0.  , 0.  , 0.  , 0.07, 0.87, 1.  , 0.65, 0.  , 0.  , 0.  , 0.  , 0.  , 0.  , 0.  , 0.  , 0.  , 0.  , 0.  ,\n",
              "       0.  , 0.  , 0.  , 0.  , 0.  , 0.  , 0.  , 0.  , 0.  , 0.  , 0.  , 0.  , 0.01, 0.8 , 1.  , 0.86, 0.14, 0.  , 0.  , 0.  , 0.  , 0.  , 0.  , 0.  , 0.  , 0.  , 0.  , 0.  ,\n",
              "       0.  , 0.  , 0.  , 0.  , 0.  , 0.  , 0.  , 0.  , 0.  , 0.  , 0.  , 0.  , 0.15, 1.  , 1.  , 0.3 , 0.  , 0.  , 0.  , 0.  , 0.  , 0.  , 0.  , 0.  , 0.  , 0.  , 0.  , 0.  ,\n",
              "       0.  , 0.  , 0.  , 0.  , 0.  , 0.  , 0.  , 0.  , 0.  , 0.  , 0.  , 0.12, 0.88, 1.  , 0.45, 0.  , 0.  , 0.  , 0.  , 0.  , 0.  , 0.  , 0.  , 0.  , 0.  , 0.  , 0.  , 0.  ,\n",
              "       0.  , 0.  , 0.  , 0.  , 0.  , 0.  , 0.  , 0.  , 0.  , 0.  , 0.  , 0.52, 1.  , 1.  , 0.2 , 0.  , 0.  , 0.  , 0.  , 0.  , 0.  , 0.  , 0.  , 0.  , 0.  , 0.  , 0.  , 0.  ,\n",
              "       0.  , 0.  , 0.  , 0.  , 0.  , 0.  , 0.  , 0.  , 0.  , 0.  , 0.24, 0.95, 1.  , 1.  , 0.2 , 0.  , 0.  , 0.  , 0.  , 0.  , 0.  , 0.  , 0.  , 0.  , 0.  , 0.  , 0.  , 0.  ,\n",
              "       0.  , 0.  , 0.  , 0.  , 0.  , 0.  , 0.  , 0.  , 0.  , 0.  , 0.47, 1.  , 1.  , 0.86, 0.16, 0.  , 0.  , 0.  , 0.  , 0.  , 0.  , 0.  , 0.  , 0.  , 0.  , 0.  , 0.  , 0.  ,\n",
              "       0.  , 0.  , 0.  , 0.  , 0.  , 0.  , 0.  , 0.  , 0.  , 0.  , 0.47, 1.  , 0.81, 0.07, 0.  , 0.  , 0.  , 0.  , 0.  , 0.  , 0.  , 0.  , 0.  , 0.  , 0.  , 0.  , 0.  , 0.  ,\n",
              "       0.  , 0.  , 0.  , 0.  , 0.  , 0.  , 0.  , 0.  , 0.  , 0.  , 0.  , 0.  , 0.  , 0.  , 0.  , 0.  , 0.  , 0.  , 0.  , 0.  , 0.  , 0.  , 0.  , 0.  , 0.  , 0.  , 0.  , 0.  ],\n",
              "      dtype=float32)"
            ]
          },
          "metadata": {},
          "execution_count": 13
        }
      ]
    },
    {
      "cell_type": "markdown",
      "metadata": {
        "id": "5MfastHtWswg"
      },
      "source": [
        "###to_categorical"
      ]
    },
    {
      "cell_type": "code",
      "metadata": {
        "id": "QFSWZi8ZQz-x"
      },
      "source": [
        "n_classes =10\n",
        "Y_train=to_categorical(Y_train, n_classes)\n",
        "Y_test=to_categorical(Y_test, n_classes)"
      ],
      "execution_count": null,
      "outputs": []
    },
    {
      "cell_type": "code",
      "metadata": {
        "colab": {
          "base_uri": "https://localhost:8080/"
        },
        "id": "XrNZMJ61X_-n",
        "outputId": "8ca26c31-cfeb-4cfd-d9e9-811e89133e06"
      },
      "source": [
        "print(Y_test[0])\n",
        "print(Y_train[0])"
      ],
      "execution_count": null,
      "outputs": [
        {
          "output_type": "stream",
          "name": "stdout",
          "text": [
            "[0. 0. 0. 0. 0. 0. 0. 1. 0. 0.]\n",
            "[0. 0. 0. 0. 0. 1. 0. 0. 0. 0.]\n"
          ]
        }
      ]
    },
    {
      "cell_type": "code",
      "metadata": {
        "id": "kMXxzqkKXgzl",
        "colab": {
          "base_uri": "https://localhost:8080/",
          "height": 282
        },
        "outputId": "b4cb63f6-3034-46f4-d1f9-788c8df0a41d"
      },
      "source": [
        "plt.imshow(X_test[0].reshape((28,28)),cmap='gray')"
      ],
      "execution_count": null,
      "outputs": [
        {
          "output_type": "execute_result",
          "data": {
            "text/plain": [
              "<matplotlib.image.AxesImage at 0x7fbac31be190>"
            ]
          },
          "metadata": {},
          "execution_count": 188
        },
        {
          "output_type": "display_data",
          "data": {
            "image/png": "[encoded data removed]",
            "text/plain": [
              "<Figure size 432x288 with 1 Axes>"
            ]
          },
          "metadata": {
            "needs_background": "light"
          }
        }
      ]
    },
    {
      "cell_type": "markdown",
      "metadata": {
        "id": "Oq_8uLDrbMHM"
      },
      "source": [
        "## 建立神經網路"
      ]
    },
    {
      "cell_type": "markdown",
      "metadata": {
        "id": "4QpOWb4xav4O"
      },
      "source": [
        "\n",
        "\n",
        "```\n",
        "model.add(Dense(64,activation='sigmoid',input_shape=(784,)))#隱藏層+輸入層\n",
        "model.add(Dense(10,activation='softmax')) 輸出層\n",
        "```\n",
        "##當**隱藏層** 層數不多 =淺層神經網路\n",
        "#####1.使用Sequential()序列建立空model，將神經網路堆疊起來\n",
        "#####2.使用add方法建立各神經層，從第一層開始建立，其兼具輸入層與隱藏層，activation=激活函數\n",
        "#####3.Dense()建立一個密集層(每個神經元與上一層的每個神經元緊密連結)"
      ]
    },
    {
      "cell_type": "code",
      "metadata": {
        "id": "OfpR93u9RNlm"
      },
      "source": [
        "model =Sequential()\n",
        "model.add(Dense(64,activation='sigmoid',input_shape=(784,)))\n",
        "model.add(Dense(10,activation='softmax'))"
      ],
      "execution_count": null,
      "outputs": []
    },
    {
      "cell_type": "code",
      "metadata": {
        "id": "hiAlbk0EY_L8"
      },
      "source": [
        "model.compile(loss='mean_squared_error',\n",
        "              optimizer=optimizers.SGD(learning_rate=0.01),\n",
        "              metrics=['accuracy'])"
      ],
      "execution_count": null,
      "outputs": []
    },
    {
      "cell_type": "code",
      "metadata": {
        "id": "nfPAukeqbdfB",
        "colab": {
          "base_uri": "https://localhost:8080/"
        },
        "outputId": "3a81b9e8-dc50-454b-9395-243dc94e8460"
      },
      "source": [
        "model.summary()"
      ],
      "execution_count": null,
      "outputs": [
        {
          "output_type": "stream",
          "name": "stdout",
          "text": [
            "Model: \"sequential\"\n",
            "_________________________________________________________________\n",
            "Layer (type)                 Output Shape              Param #   \n",
            "=================================================================\n",
            "dense (Dense)                (None, 64)                50240     \n",
            "_________________________________________________________________\n",
            "dense_1 (Dense)              (None, 10)                650       \n",
            "=================================================================\n",
            "Total params: 50,890\n",
            "Trainable params: 50,890\n",
            "Non-trainable params: 0\n",
            "_________________________________________________________________\n"
          ]
        }
      ]
    },
    {
      "cell_type": "markdown",
      "metadata": {
        "id": "TTTEzVqKbQBT"
      },
      "source": [
        "##訓練神經網路"
      ]
    },
    {
      "cell_type": "code",
      "metadata": {
        "colab": {
          "base_uri": "https://localhost:8080/"
        },
        "id": "rw5yk4J3sl61",
        "outputId": "fc2317af-f333-4a8d-c956-78e1238fbf43"
      },
      "source": [
        "model.fit(X_train, Y_train, batch_size=128, epochs=200, verbose=1,validation_data=(X_test,Y_test))"
      ],
      "execution_count": null,
      "outputs": [
        {
          "output_type": "stream",
          "name": "stdout",
          "text": [
            "Epoch 1/200\n",
            "469/469 [==============================] - 2s 4ms/step - loss: 0.0911 - accuracy: 0.1335 - val_loss: 0.0906 - val_accuracy: 0.1629\n",
            "Epoch 2/200\n",
            "469/469 [==============================] - 2s 3ms/step - loss: 0.0901 - accuracy: 0.1765 - val_loss: 0.0898 - val_accuracy: 0.2020\n",
            "Epoch 3/200\n",
            "469/469 [==============================] - 2s 3ms/step - loss: 0.0894 - accuracy: 0.2108 - val_loss: 0.0892 - val_accuracy: 0.2334\n",
            "Epoch 4/200\n",
            "469/469 [==============================] - 2s 3ms/step - loss: 0.0889 - accuracy: 0.2410 - val_loss: 0.0886 - val_accuracy: 0.2594\n",
            "Epoch 5/200\n",
            "469/469 [==============================] - 2s 3ms/step - loss: 0.0884 - accuracy: 0.2659 - val_loss: 0.0882 - val_accuracy: 0.2840\n",
            "Epoch 6/200\n",
            "469/469 [==============================] - 2s 3ms/step - loss: 0.0879 - accuracy: 0.2873 - val_loss: 0.0877 - val_accuracy: 0.3032\n",
            "Epoch 7/200\n",
            "469/469 [==============================] - 2s 3ms/step - loss: 0.0875 - accuracy: 0.3044 - val_loss: 0.0873 - val_accuracy: 0.3186\n",
            "Epoch 8/200\n",
            "469/469 [==============================] - 2s 3ms/step - loss: 0.0872 - accuracy: 0.3185 - val_loss: 0.0869 - val_accuracy: 0.3294\n",
            "Epoch 9/200\n",
            "469/469 [==============================] - 2s 3ms/step - loss: 0.0868 - accuracy: 0.3283 - val_loss: 0.0866 - val_accuracy: 0.3384\n",
            "Epoch 10/200\n",
            "469/469 [==============================] - 2s 3ms/step - loss: 0.0864 - accuracy: 0.3383 - val_loss: 0.0862 - val_accuracy: 0.3475\n",
            "Epoch 11/200\n",
            "469/469 [==============================] - 2s 3ms/step - loss: 0.0860 - accuracy: 0.3454 - val_loss: 0.0858 - val_accuracy: 0.3557\n",
            "Epoch 12/200\n",
            "469/469 [==============================] - 1s 3ms/step - loss: 0.0857 - accuracy: 0.3522 - val_loss: 0.0854 - val_accuracy: 0.3630\n",
            "Epoch 13/200\n",
            "469/469 [==============================] - 2s 3ms/step - loss: 0.0853 - accuracy: 0.3593 - val_loss: 0.0850 - val_accuracy: 0.3690\n",
            "Epoch 14/200\n",
            "469/469 [==============================] - 2s 3ms/step - loss: 0.0849 - accuracy: 0.3646 - val_loss: 0.0846 - val_accuracy: 0.3740\n",
            "Epoch 15/200\n",
            "469/469 [==============================] - 2s 3ms/step - loss: 0.0845 - accuracy: 0.3693 - val_loss: 0.0842 - val_accuracy: 0.3784\n",
            "Epoch 16/200\n",
            "469/469 [==============================] - 2s 3ms/step - loss: 0.0842 - accuracy: 0.3747 - val_loss: 0.0838 - val_accuracy: 0.3825\n",
            "Epoch 17/200\n",
            "469/469 [==============================] - 2s 3ms/step - loss: 0.0838 - accuracy: 0.3792 - val_loss: 0.0834 - val_accuracy: 0.3859\n",
            "Epoch 18/200\n",
            "469/469 [==============================] - 2s 3ms/step - loss: 0.0833 - accuracy: 0.3815 - val_loss: 0.0830 - val_accuracy: 0.3893\n",
            "Epoch 19/200\n",
            "469/469 [==============================] - 2s 3ms/step - loss: 0.0829 - accuracy: 0.3855 - val_loss: 0.0826 - val_accuracy: 0.3918\n",
            "Epoch 20/200\n",
            "469/469 [==============================] - 2s 3ms/step - loss: 0.0825 - accuracy: 0.3878 - val_loss: 0.0822 - val_accuracy: 0.3936\n",
            "Epoch 21/200\n",
            "469/469 [==============================] - 2s 3ms/step - loss: 0.0821 - accuracy: 0.3899 - val_loss: 0.0817 - val_accuracy: 0.3955\n",
            "Epoch 22/200\n",
            "469/469 [==============================] - 2s 3ms/step - loss: 0.0816 - accuracy: 0.3929 - val_loss: 0.0813 - val_accuracy: 0.3979\n",
            "Epoch 23/200\n",
            "469/469 [==============================] - 2s 3ms/step - loss: 0.0812 - accuracy: 0.3951 - val_loss: 0.0808 - val_accuracy: 0.4005\n",
            "Epoch 24/200\n",
            "469/469 [==============================] - 2s 4ms/step - loss: 0.0807 - accuracy: 0.3961 - val_loss: 0.0803 - val_accuracy: 0.4029\n",
            "Epoch 25/200\n",
            "469/469 [==============================] - 2s 3ms/step - loss: 0.0803 - accuracy: 0.3985 - val_loss: 0.0799 - val_accuracy: 0.4052\n",
            "Epoch 26/200\n",
            "469/469 [==============================] - 2s 3ms/step - loss: 0.0798 - accuracy: 0.4008 - val_loss: 0.0794 - val_accuracy: 0.4073\n",
            "Epoch 27/200\n",
            "469/469 [==============================] - 2s 3ms/step - loss: 0.0793 - accuracy: 0.4030 - val_loss: 0.0789 - val_accuracy: 0.4088\n",
            "Epoch 28/200\n",
            "469/469 [==============================] - 2s 3ms/step - loss: 0.0789 - accuracy: 0.4047 - val_loss: 0.0784 - val_accuracy: 0.4120\n",
            "Epoch 29/200\n",
            "469/469 [==============================] - 1s 3ms/step - loss: 0.0784 - accuracy: 0.4070 - val_loss: 0.0779 - val_accuracy: 0.4139\n",
            "Epoch 30/200\n",
            "469/469 [==============================] - 2s 3ms/step - loss: 0.0779 - accuracy: 0.4085 - val_loss: 0.0775 - val_accuracy: 0.4168\n",
            "Epoch 31/200\n",
            "469/469 [==============================] - 2s 3ms/step - loss: 0.0774 - accuracy: 0.4110 - val_loss: 0.0770 - val_accuracy: 0.4179\n",
            "Epoch 32/200\n",
            "469/469 [==============================] - 2s 3ms/step - loss: 0.0769 - accuracy: 0.4132 - val_loss: 0.0765 - val_accuracy: 0.4207\n",
            "Epoch 33/200\n",
            "469/469 [==============================] - 2s 3ms/step - loss: 0.0764 - accuracy: 0.4160 - val_loss: 0.0760 - val_accuracy: 0.4233\n",
            "Epoch 34/200\n",
            "469/469 [==============================] - 2s 4ms/step - loss: 0.0760 - accuracy: 0.4184 - val_loss: 0.0755 - val_accuracy: 0.4258\n",
            "Epoch 35/200\n",
            "469/469 [==============================] - 2s 3ms/step - loss: 0.0755 - accuracy: 0.4206 - val_loss: 0.0750 - val_accuracy: 0.4291\n",
            "Epoch 36/200\n",
            "469/469 [==============================] - 2s 3ms/step - loss: 0.0750 - accuracy: 0.4240 - val_loss: 0.0745 - val_accuracy: 0.4318\n",
            "Epoch 37/200\n",
            "469/469 [==============================] - 1s 3ms/step - loss: 0.0745 - accuracy: 0.4270 - val_loss: 0.0740 - val_accuracy: 0.4358\n",
            "Epoch 38/200\n",
            "469/469 [==============================] - 2s 3ms/step - loss: 0.0740 - accuracy: 0.4300 - val_loss: 0.0735 - val_accuracy: 0.4393\n",
            "Epoch 39/200\n",
            "469/469 [==============================] - 2s 3ms/step - loss: 0.0735 - accuracy: 0.4335 - val_loss: 0.0731 - val_accuracy: 0.4422\n",
            "Epoch 40/200\n",
            "469/469 [==============================] - 2s 3ms/step - loss: 0.0731 - accuracy: 0.4368 - val_loss: 0.0726 - val_accuracy: 0.4470\n",
            "Epoch 41/200\n",
            "469/469 [==============================] - 2s 3ms/step - loss: 0.0726 - accuracy: 0.4419 - val_loss: 0.0721 - val_accuracy: 0.4510\n",
            "Epoch 42/200\n",
            "469/469 [==============================] - 2s 3ms/step - loss: 0.0721 - accuracy: 0.4466 - val_loss: 0.0716 - val_accuracy: 0.4547\n",
            "Epoch 43/200\n",
            "469/469 [==============================] - 2s 3ms/step - loss: 0.0716 - accuracy: 0.4515 - val_loss: 0.0711 - val_accuracy: 0.4608\n",
            "Epoch 44/200\n",
            "469/469 [==============================] - 2s 4ms/step - loss: 0.0712 - accuracy: 0.4577 - val_loss: 0.0707 - val_accuracy: 0.4653\n",
            "Epoch 45/200\n",
            "469/469 [==============================] - 2s 3ms/step - loss: 0.0707 - accuracy: 0.4626 - val_loss: 0.0702 - val_accuracy: 0.4725\n",
            "Epoch 46/200\n",
            "469/469 [==============================] - 2s 3ms/step - loss: 0.0702 - accuracy: 0.4688 - val_loss: 0.0697 - val_accuracy: 0.4785\n",
            "Epoch 47/200\n",
            "469/469 [==============================] - 2s 3ms/step - loss: 0.0698 - accuracy: 0.4755 - val_loss: 0.0693 - val_accuracy: 0.4852\n",
            "Epoch 48/200\n",
            "469/469 [==============================] - 2s 3ms/step - loss: 0.0693 - accuracy: 0.4817 - val_loss: 0.0688 - val_accuracy: 0.4927\n",
            "Epoch 49/200\n",
            "469/469 [==============================] - 2s 3ms/step - loss: 0.0688 - accuracy: 0.4897 - val_loss: 0.0683 - val_accuracy: 0.4996\n",
            "Epoch 50/200\n",
            "469/469 [==============================] - 2s 3ms/step - loss: 0.0684 - accuracy: 0.4972 - val_loss: 0.0679 - val_accuracy: 0.5081\n",
            "Epoch 51/200\n",
            "469/469 [==============================] - 1s 3ms/step - loss: 0.0679 - accuracy: 0.5044 - val_loss: 0.0674 - val_accuracy: 0.5144\n",
            "Epoch 52/200\n",
            "469/469 [==============================] - 2s 3ms/step - loss: 0.0675 - accuracy: 0.5117 - val_loss: 0.0670 - val_accuracy: 0.5220\n",
            "Epoch 53/200\n",
            "469/469 [==============================] - 2s 3ms/step - loss: 0.0671 - accuracy: 0.5195 - val_loss: 0.0665 - val_accuracy: 0.5300\n",
            "Epoch 54/200\n",
            "469/469 [==============================] - 2s 3ms/step - loss: 0.0666 - accuracy: 0.5267 - val_loss: 0.0661 - val_accuracy: 0.5374\n",
            "Epoch 55/200\n",
            "469/469 [==============================] - 2s 3ms/step - loss: 0.0662 - accuracy: 0.5345 - val_loss: 0.0656 - val_accuracy: 0.5445\n",
            "Epoch 56/200\n",
            "469/469 [==============================] - 2s 3ms/step - loss: 0.0657 - accuracy: 0.5421 - val_loss: 0.0652 - val_accuracy: 0.5527\n",
            "Epoch 57/200\n",
            "469/469 [==============================] - 2s 3ms/step - loss: 0.0653 - accuracy: 0.5495 - val_loss: 0.0648 - val_accuracy: 0.5593\n",
            "Epoch 58/200\n",
            "469/469 [==============================] - 2s 3ms/step - loss: 0.0649 - accuracy: 0.5570 - val_loss: 0.0643 - val_accuracy: 0.5666\n",
            "Epoch 59/200\n",
            "469/469 [==============================] - 2s 3ms/step - loss: 0.0644 - accuracy: 0.5646 - val_loss: 0.0639 - val_accuracy: 0.5752\n",
            "Epoch 60/200\n",
            "469/469 [==============================] - 2s 3ms/step - loss: 0.0640 - accuracy: 0.5717 - val_loss: 0.0635 - val_accuracy: 0.5828\n",
            "Epoch 61/200\n",
            "469/469 [==============================] - 2s 3ms/step - loss: 0.0636 - accuracy: 0.5787 - val_loss: 0.0630 - val_accuracy: 0.5912\n",
            "Epoch 62/200\n",
            "469/469 [==============================] - 2s 4ms/step - loss: 0.0632 - accuracy: 0.5853 - val_loss: 0.0626 - val_accuracy: 0.5997\n",
            "Epoch 63/200\n",
            "469/469 [==============================] - 2s 3ms/step - loss: 0.0627 - accuracy: 0.5931 - val_loss: 0.0622 - val_accuracy: 0.6064\n",
            "Epoch 64/200\n",
            "469/469 [==============================] - 2s 3ms/step - loss: 0.0623 - accuracy: 0.5995 - val_loss: 0.0617 - val_accuracy: 0.6131\n",
            "Epoch 65/200\n",
            "469/469 [==============================] - 2s 3ms/step - loss: 0.0619 - accuracy: 0.6069 - val_loss: 0.0613 - val_accuracy: 0.6185\n",
            "Epoch 66/200\n",
            "469/469 [==============================] - 2s 3ms/step - loss: 0.0615 - accuracy: 0.6135 - val_loss: 0.0609 - val_accuracy: 0.6245\n",
            "Epoch 67/200\n",
            "469/469 [==============================] - 2s 3ms/step - loss: 0.0611 - accuracy: 0.6202 - val_loss: 0.0605 - val_accuracy: 0.6331\n",
            "Epoch 68/200\n",
            "469/469 [==============================] - 2s 4ms/step - loss: 0.0607 - accuracy: 0.6268 - val_loss: 0.0600 - val_accuracy: 0.6383\n",
            "Epoch 69/200\n",
            "469/469 [==============================] - 2s 4ms/step - loss: 0.0602 - accuracy: 0.6326 - val_loss: 0.0596 - val_accuracy: 0.6443\n",
            "Epoch 70/200\n",
            "469/469 [==============================] - 2s 4ms/step - loss: 0.0598 - accuracy: 0.6388 - val_loss: 0.0592 - val_accuracy: 0.6500\n",
            "Epoch 71/200\n",
            "469/469 [==============================] - 2s 4ms/step - loss: 0.0594 - accuracy: 0.6439 - val_loss: 0.0588 - val_accuracy: 0.6552\n",
            "Epoch 72/200\n",
            "469/469 [==============================] - 2s 4ms/step - loss: 0.0590 - accuracy: 0.6495 - val_loss: 0.0584 - val_accuracy: 0.6581\n",
            "Epoch 73/200\n",
            "469/469 [==============================] - 2s 4ms/step - loss: 0.0586 - accuracy: 0.6545 - val_loss: 0.0579 - val_accuracy: 0.6624\n",
            "Epoch 74/200\n",
            "469/469 [==============================] - 2s 4ms/step - loss: 0.0582 - accuracy: 0.6591 - val_loss: 0.0575 - val_accuracy: 0.6663\n",
            "Epoch 75/200\n",
            "469/469 [==============================] - 2s 4ms/step - loss: 0.0578 - accuracy: 0.6639 - val_loss: 0.0571 - val_accuracy: 0.6708\n",
            "Epoch 76/200\n",
            "469/469 [==============================] - 2s 4ms/step - loss: 0.0574 - accuracy: 0.6690 - val_loss: 0.0567 - val_accuracy: 0.6758\n",
            "Epoch 77/200\n",
            "469/469 [==============================] - 2s 4ms/step - loss: 0.0570 - accuracy: 0.6735 - val_loss: 0.0563 - val_accuracy: 0.6809\n",
            "Epoch 78/200\n",
            "469/469 [==============================] - 2s 4ms/step - loss: 0.0566 - accuracy: 0.6778 - val_loss: 0.0559 - val_accuracy: 0.6850\n",
            "Epoch 79/200\n",
            "469/469 [==============================] - 2s 4ms/step - loss: 0.0562 - accuracy: 0.6818 - val_loss: 0.0555 - val_accuracy: 0.6906\n",
            "Epoch 80/200\n",
            "469/469 [==============================] - 2s 4ms/step - loss: 0.0558 - accuracy: 0.6866 - val_loss: 0.0551 - val_accuracy: 0.6939\n",
            "Epoch 81/200\n",
            "469/469 [==============================] - 2s 4ms/step - loss: 0.0554 - accuracy: 0.6908 - val_loss: 0.0547 - val_accuracy: 0.6975\n",
            "Epoch 82/200\n",
            "469/469 [==============================] - 2s 4ms/step - loss: 0.0550 - accuracy: 0.6941 - val_loss: 0.0543 - val_accuracy: 0.7009\n",
            "Epoch 83/200\n",
            "469/469 [==============================] - 2s 4ms/step - loss: 0.0546 - accuracy: 0.6976 - val_loss: 0.0539 - val_accuracy: 0.7049\n",
            "Epoch 84/200\n",
            "469/469 [==============================] - 2s 4ms/step - loss: 0.0542 - accuracy: 0.7016 - val_loss: 0.0535 - val_accuracy: 0.7079\n",
            "Epoch 85/200\n",
            "469/469 [==============================] - 2s 4ms/step - loss: 0.0539 - accuracy: 0.7047 - val_loss: 0.0531 - val_accuracy: 0.7114\n",
            "Epoch 86/200\n",
            "469/469 [==============================] - 2s 4ms/step - loss: 0.0535 - accuracy: 0.7084 - val_loss: 0.0527 - val_accuracy: 0.7150\n",
            "Epoch 87/200\n",
            "469/469 [==============================] - 2s 3ms/step - loss: 0.0531 - accuracy: 0.7113 - val_loss: 0.0523 - val_accuracy: 0.7179\n",
            "Epoch 88/200\n",
            "469/469 [==============================] - 2s 4ms/step - loss: 0.0527 - accuracy: 0.7138 - val_loss: 0.0519 - val_accuracy: 0.7222\n",
            "Epoch 89/200\n",
            "469/469 [==============================] - 2s 3ms/step - loss: 0.0523 - accuracy: 0.7168 - val_loss: 0.0516 - val_accuracy: 0.7248\n",
            "Epoch 90/200\n",
            "469/469 [==============================] - 2s 3ms/step - loss: 0.0520 - accuracy: 0.7190 - val_loss: 0.0512 - val_accuracy: 0.7281\n",
            "Epoch 91/200\n",
            "469/469 [==============================] - 2s 3ms/step - loss: 0.0516 - accuracy: 0.7218 - val_loss: 0.0508 - val_accuracy: 0.7301\n",
            "Epoch 92/200\n",
            "469/469 [==============================] - 2s 3ms/step - loss: 0.0512 - accuracy: 0.7239 - val_loss: 0.0504 - val_accuracy: 0.7325\n",
            "Epoch 93/200\n",
            "469/469 [==============================] - 2s 4ms/step - loss: 0.0509 - accuracy: 0.7263 - val_loss: 0.0501 - val_accuracy: 0.7341\n",
            "Epoch 94/200\n",
            "469/469 [==============================] - 2s 4ms/step - loss: 0.0505 - accuracy: 0.7283 - val_loss: 0.0497 - val_accuracy: 0.7358\n",
            "Epoch 95/200\n",
            "469/469 [==============================] - 2s 3ms/step - loss: 0.0502 - accuracy: 0.7305 - val_loss: 0.0494 - val_accuracy: 0.7386\n",
            "Epoch 96/200\n",
            "469/469 [==============================] - 2s 3ms/step - loss: 0.0498 - accuracy: 0.7329 - val_loss: 0.0490 - val_accuracy: 0.7409\n",
            "Epoch 97/200\n",
            "469/469 [==============================] - 2s 3ms/step - loss: 0.0495 - accuracy: 0.7350 - val_loss: 0.0486 - val_accuracy: 0.7422\n",
            "Epoch 98/200\n",
            "469/469 [==============================] - 2s 3ms/step - loss: 0.0491 - accuracy: 0.7370 - val_loss: 0.0483 - val_accuracy: 0.7441\n",
            "Epoch 99/200\n",
            "469/469 [==============================] - 2s 3ms/step - loss: 0.0488 - accuracy: 0.7387 - val_loss: 0.0480 - val_accuracy: 0.7465\n",
            "Epoch 100/200\n",
            "469/469 [==============================] - 2s 4ms/step - loss: 0.0484 - accuracy: 0.7405 - val_loss: 0.0476 - val_accuracy: 0.7479\n",
            "Epoch 101/200\n",
            "469/469 [==============================] - 2s 4ms/step - loss: 0.0481 - accuracy: 0.7421 - val_loss: 0.0473 - val_accuracy: 0.7497\n",
            "Epoch 102/200\n",
            "469/469 [==============================] - 2s 4ms/step - loss: 0.0478 - accuracy: 0.7437 - val_loss: 0.0469 - val_accuracy: 0.7512\n",
            "Epoch 103/200\n",
            "469/469 [==============================] - 2s 4ms/step - loss: 0.0474 - accuracy: 0.7450 - val_loss: 0.0466 - val_accuracy: 0.7525\n",
            "Epoch 104/200\n",
            "469/469 [==============================] - 2s 3ms/step - loss: 0.0471 - accuracy: 0.7465 - val_loss: 0.0463 - val_accuracy: 0.7536\n",
            "Epoch 105/200\n",
            "469/469 [==============================] - 2s 3ms/step - loss: 0.0468 - accuracy: 0.7476 - val_loss: 0.0460 - val_accuracy: 0.7556\n",
            "Epoch 106/200\n",
            "469/469 [==============================] - 2s 4ms/step - loss: 0.0465 - accuracy: 0.7491 - val_loss: 0.0457 - val_accuracy: 0.7575\n",
            "Epoch 107/200\n",
            "469/469 [==============================] - 2s 3ms/step - loss: 0.0462 - accuracy: 0.7501 - val_loss: 0.0453 - val_accuracy: 0.7585\n",
            "Epoch 108/200\n",
            "469/469 [==============================] - 2s 3ms/step - loss: 0.0459 - accuracy: 0.7513 - val_loss: 0.0450 - val_accuracy: 0.7600\n",
            "Epoch 109/200\n",
            "469/469 [==============================] - 2s 3ms/step - loss: 0.0456 - accuracy: 0.7526 - val_loss: 0.0447 - val_accuracy: 0.7613\n",
            "Epoch 110/200\n",
            "469/469 [==============================] - 2s 4ms/step - loss: 0.0453 - accuracy: 0.7537 - val_loss: 0.0444 - val_accuracy: 0.7621\n",
            "Epoch 111/200\n",
            "469/469 [==============================] - 2s 4ms/step - loss: 0.0450 - accuracy: 0.7547 - val_loss: 0.0441 - val_accuracy: 0.7627\n",
            "Epoch 112/200\n",
            "469/469 [==============================] - 2s 4ms/step - loss: 0.0447 - accuracy: 0.7557 - val_loss: 0.0438 - val_accuracy: 0.7637\n",
            "Epoch 113/200\n",
            "469/469 [==============================] - 2s 3ms/step - loss: 0.0444 - accuracy: 0.7568 - val_loss: 0.0435 - val_accuracy: 0.7648\n",
            "Epoch 114/200\n",
            "469/469 [==============================] - 2s 3ms/step - loss: 0.0441 - accuracy: 0.7577 - val_loss: 0.0432 - val_accuracy: 0.7659\n",
            "Epoch 115/200\n",
            "469/469 [==============================] - 2s 3ms/step - loss: 0.0438 - accuracy: 0.7587 - val_loss: 0.0430 - val_accuracy: 0.7670\n",
            "Epoch 116/200\n",
            "469/469 [==============================] - 2s 4ms/step - loss: 0.0435 - accuracy: 0.7599 - val_loss: 0.0427 - val_accuracy: 0.7676\n",
            "Epoch 117/200\n",
            "469/469 [==============================] - 2s 4ms/step - loss: 0.0433 - accuracy: 0.7606 - val_loss: 0.0424 - val_accuracy: 0.7690\n",
            "Epoch 118/200\n",
            "469/469 [==============================] - 2s 4ms/step - loss: 0.0430 - accuracy: 0.7617 - val_loss: 0.0421 - val_accuracy: 0.7702\n",
            "Epoch 119/200\n",
            "469/469 [==============================] - 2s 4ms/step - loss: 0.0427 - accuracy: 0.7627 - val_loss: 0.0419 - val_accuracy: 0.7712\n",
            "Epoch 120/200\n",
            "469/469 [==============================] - 2s 4ms/step - loss: 0.0425 - accuracy: 0.7634 - val_loss: 0.0416 - val_accuracy: 0.7724\n",
            "Epoch 121/200\n",
            "469/469 [==============================] - 2s 4ms/step - loss: 0.0422 - accuracy: 0.7642 - val_loss: 0.0413 - val_accuracy: 0.7733\n",
            "Epoch 122/200\n",
            "469/469 [==============================] - 2s 4ms/step - loss: 0.0419 - accuracy: 0.7650 - val_loss: 0.0411 - val_accuracy: 0.7739\n",
            "Epoch 123/200\n",
            "469/469 [==============================] - 2s 4ms/step - loss: 0.0417 - accuracy: 0.7658 - val_loss: 0.0408 - val_accuracy: 0.7750\n",
            "Epoch 124/200\n",
            "469/469 [==============================] - 2s 4ms/step - loss: 0.0414 - accuracy: 0.7667 - val_loss: 0.0406 - val_accuracy: 0.7757\n",
            "Epoch 125/200\n",
            "469/469 [==============================] - 2s 4ms/step - loss: 0.0412 - accuracy: 0.7678 - val_loss: 0.0403 - val_accuracy: 0.7765\n",
            "Epoch 126/200\n",
            "469/469 [==============================] - 2s 4ms/step - loss: 0.0409 - accuracy: 0.7687 - val_loss: 0.0401 - val_accuracy: 0.7771\n",
            "Epoch 127/200\n",
            "469/469 [==============================] - 2s 4ms/step - loss: 0.0407 - accuracy: 0.7696 - val_loss: 0.0398 - val_accuracy: 0.7787\n",
            "Epoch 128/200\n",
            "469/469 [==============================] - 2s 4ms/step - loss: 0.0404 - accuracy: 0.7709 - val_loss: 0.0396 - val_accuracy: 0.7802\n",
            "Epoch 129/200\n",
            "469/469 [==============================] - 2s 4ms/step - loss: 0.0402 - accuracy: 0.7722 - val_loss: 0.0393 - val_accuracy: 0.7810\n",
            "Epoch 130/200\n",
            "469/469 [==============================] - 2s 4ms/step - loss: 0.0400 - accuracy: 0.7740 - val_loss: 0.0391 - val_accuracy: 0.7827\n",
            "Epoch 131/200\n",
            "469/469 [==============================] - 2s 4ms/step - loss: 0.0397 - accuracy: 0.7751 - val_loss: 0.0389 - val_accuracy: 0.7839\n",
            "Epoch 132/200\n",
            "469/469 [==============================] - 2s 3ms/step - loss: 0.0395 - accuracy: 0.7765 - val_loss: 0.0386 - val_accuracy: 0.7861\n",
            "Epoch 133/200\n",
            "469/469 [==============================] - 2s 3ms/step - loss: 0.0393 - accuracy: 0.7782 - val_loss: 0.0384 - val_accuracy: 0.7878\n",
            "Epoch 134/200\n",
            "469/469 [==============================] - 2s 4ms/step - loss: 0.0391 - accuracy: 0.7798 - val_loss: 0.0382 - val_accuracy: 0.7891\n",
            "Epoch 135/200\n",
            "469/469 [==============================] - 2s 4ms/step - loss: 0.0388 - accuracy: 0.7814 - val_loss: 0.0380 - val_accuracy: 0.7908\n",
            "Epoch 136/200\n",
            "469/469 [==============================] - 2s 4ms/step - loss: 0.0386 - accuracy: 0.7830 - val_loss: 0.0377 - val_accuracy: 0.7922\n",
            "Epoch 137/200\n",
            "469/469 [==============================] - 2s 4ms/step - loss: 0.0384 - accuracy: 0.7849 - val_loss: 0.0375 - val_accuracy: 0.7942\n",
            "Epoch 138/200\n",
            "469/469 [==============================] - 2s 4ms/step - loss: 0.0382 - accuracy: 0.7865 - val_loss: 0.0373 - val_accuracy: 0.7960\n",
            "Epoch 139/200\n",
            "469/469 [==============================] - 2s 3ms/step - loss: 0.0380 - accuracy: 0.7879 - val_loss: 0.0371 - val_accuracy: 0.7980\n",
            "Epoch 140/200\n",
            "469/469 [==============================] - 2s 4ms/step - loss: 0.0378 - accuracy: 0.7893 - val_loss: 0.0369 - val_accuracy: 0.8000\n",
            "Epoch 141/200\n",
            "469/469 [==============================] - 2s 3ms/step - loss: 0.0376 - accuracy: 0.7913 - val_loss: 0.0367 - val_accuracy: 0.8017\n",
            "Epoch 142/200\n",
            "469/469 [==============================] - 2s 3ms/step - loss: 0.0374 - accuracy: 0.7929 - val_loss: 0.0365 - val_accuracy: 0.8030\n",
            "Epoch 143/200\n",
            "469/469 [==============================] - 2s 4ms/step - loss: 0.0372 - accuracy: 0.7944 - val_loss: 0.0363 - val_accuracy: 0.8054\n",
            "Epoch 144/200\n",
            "469/469 [==============================] - 2s 4ms/step - loss: 0.0370 - accuracy: 0.7964 - val_loss: 0.0361 - val_accuracy: 0.8075\n",
            "Epoch 145/200\n",
            "469/469 [==============================] - 2s 4ms/step - loss: 0.0368 - accuracy: 0.7981 - val_loss: 0.0359 - val_accuracy: 0.8088\n",
            "Epoch 146/200\n",
            "469/469 [==============================] - 2s 4ms/step - loss: 0.0366 - accuracy: 0.7997 - val_loss: 0.0357 - val_accuracy: 0.8103\n",
            "Epoch 147/200\n",
            "469/469 [==============================] - 2s 3ms/step - loss: 0.0364 - accuracy: 0.8012 - val_loss: 0.0355 - val_accuracy: 0.8127\n",
            "Epoch 148/200\n",
            "469/469 [==============================] - 2s 4ms/step - loss: 0.0362 - accuracy: 0.8028 - val_loss: 0.0353 - val_accuracy: 0.8136\n",
            "Epoch 149/200\n",
            "469/469 [==============================] - 2s 3ms/step - loss: 0.0360 - accuracy: 0.8044 - val_loss: 0.0351 - val_accuracy: 0.8154\n",
            "Epoch 150/200\n",
            "469/469 [==============================] - 2s 3ms/step - loss: 0.0358 - accuracy: 0.8057 - val_loss: 0.0349 - val_accuracy: 0.8167\n",
            "Epoch 151/200\n",
            "469/469 [==============================] - 2s 3ms/step - loss: 0.0356 - accuracy: 0.8074 - val_loss: 0.0347 - val_accuracy: 0.8176\n",
            "Epoch 152/200\n",
            "469/469 [==============================] - 2s 4ms/step - loss: 0.0354 - accuracy: 0.8089 - val_loss: 0.0345 - val_accuracy: 0.8186\n",
            "Epoch 153/200\n",
            "469/469 [==============================] - 2s 4ms/step - loss: 0.0353 - accuracy: 0.8105 - val_loss: 0.0343 - val_accuracy: 0.8206\n",
            "Epoch 154/200\n",
            "469/469 [==============================] - 2s 4ms/step - loss: 0.0351 - accuracy: 0.8122 - val_loss: 0.0342 - val_accuracy: 0.8215\n",
            "Epoch 155/200\n",
            "469/469 [==============================] - 2s 3ms/step - loss: 0.0349 - accuracy: 0.8133 - val_loss: 0.0340 - val_accuracy: 0.8238\n",
            "Epoch 156/200\n",
            "469/469 [==============================] - 2s 4ms/step - loss: 0.0347 - accuracy: 0.8146 - val_loss: 0.0338 - val_accuracy: 0.8247\n",
            "Epoch 157/200\n",
            "469/469 [==============================] - 2s 3ms/step - loss: 0.0345 - accuracy: 0.8155 - val_loss: 0.0336 - val_accuracy: 0.8264\n",
            "Epoch 158/200\n",
            "469/469 [==============================] - 2s 4ms/step - loss: 0.0344 - accuracy: 0.8168 - val_loss: 0.0335 - val_accuracy: 0.8277\n",
            "Epoch 159/200\n",
            "469/469 [==============================] - 2s 4ms/step - loss: 0.0342 - accuracy: 0.8180 - val_loss: 0.0333 - val_accuracy: 0.8283\n",
            "Epoch 160/200\n",
            "469/469 [==============================] - 2s 4ms/step - loss: 0.0340 - accuracy: 0.8193 - val_loss: 0.0331 - val_accuracy: 0.8293\n",
            "Epoch 161/200\n",
            "469/469 [==============================] - 2s 4ms/step - loss: 0.0339 - accuracy: 0.8205 - val_loss: 0.0330 - val_accuracy: 0.8305\n",
            "Epoch 162/200\n",
            "469/469 [==============================] - 2s 4ms/step - loss: 0.0337 - accuracy: 0.8215 - val_loss: 0.0328 - val_accuracy: 0.8317\n",
            "Epoch 163/200\n",
            "469/469 [==============================] - 2s 4ms/step - loss: 0.0335 - accuracy: 0.8228 - val_loss: 0.0326 - val_accuracy: 0.8328\n",
            "Epoch 164/200\n",
            "469/469 [==============================] - 2s 3ms/step - loss: 0.0334 - accuracy: 0.8237 - val_loss: 0.0325 - val_accuracy: 0.8347\n",
            "Epoch 165/200\n",
            "469/469 [==============================] - 2s 4ms/step - loss: 0.0332 - accuracy: 0.8249 - val_loss: 0.0323 - val_accuracy: 0.8359\n",
            "Epoch 166/200\n",
            "469/469 [==============================] - 2s 4ms/step - loss: 0.0331 - accuracy: 0.8258 - val_loss: 0.0321 - val_accuracy: 0.8367\n",
            "Epoch 167/200\n",
            "469/469 [==============================] - 2s 3ms/step - loss: 0.0329 - accuracy: 0.8269 - val_loss: 0.0320 - val_accuracy: 0.8379\n",
            "Epoch 168/200\n",
            "469/469 [==============================] - 2s 4ms/step - loss: 0.0328 - accuracy: 0.8281 - val_loss: 0.0318 - val_accuracy: 0.8386\n",
            "Epoch 169/200\n",
            "469/469 [==============================] - 2s 4ms/step - loss: 0.0326 - accuracy: 0.8289 - val_loss: 0.0317 - val_accuracy: 0.8392\n",
            "Epoch 170/200\n",
            "469/469 [==============================] - 2s 4ms/step - loss: 0.0325 - accuracy: 0.8299 - val_loss: 0.0315 - val_accuracy: 0.8402\n",
            "Epoch 171/200\n",
            "469/469 [==============================] - 2s 4ms/step - loss: 0.0323 - accuracy: 0.8307 - val_loss: 0.0314 - val_accuracy: 0.8403\n",
            "Epoch 172/200\n",
            "469/469 [==============================] - 2s 4ms/step - loss: 0.0322 - accuracy: 0.8315 - val_loss: 0.0312 - val_accuracy: 0.8415\n",
            "Epoch 173/200\n",
            "469/469 [==============================] - 2s 4ms/step - loss: 0.0320 - accuracy: 0.8324 - val_loss: 0.0311 - val_accuracy: 0.8417\n",
            "Epoch 174/200\n",
            "469/469 [==============================] - 2s 4ms/step - loss: 0.0319 - accuracy: 0.8330 - val_loss: 0.0309 - val_accuracy: 0.8421\n",
            "Epoch 175/200\n",
            "469/469 [==============================] - 2s 3ms/step - loss: 0.0317 - accuracy: 0.8339 - val_loss: 0.0308 - val_accuracy: 0.8430\n",
            "Epoch 176/200\n",
            "469/469 [==============================] - 2s 4ms/step - loss: 0.0316 - accuracy: 0.8345 - val_loss: 0.0307 - val_accuracy: 0.8437\n",
            "Epoch 177/200\n",
            "469/469 [==============================] - 2s 4ms/step - loss: 0.0315 - accuracy: 0.8355 - val_loss: 0.0305 - val_accuracy: 0.8442\n",
            "Epoch 178/200\n",
            "469/469 [==============================] - 2s 4ms/step - loss: 0.0313 - accuracy: 0.8363 - val_loss: 0.0304 - val_accuracy: 0.8448\n",
            "Epoch 179/200\n",
            "469/469 [==============================] - 2s 4ms/step - loss: 0.0312 - accuracy: 0.8370 - val_loss: 0.0302 - val_accuracy: 0.8452\n",
            "Epoch 180/200\n",
            "469/469 [==============================] - 2s 4ms/step - loss: 0.0311 - accuracy: 0.8379 - val_loss: 0.0301 - val_accuracy: 0.8460\n",
            "Epoch 181/200\n",
            "469/469 [==============================] - 2s 4ms/step - loss: 0.0309 - accuracy: 0.8386 - val_loss: 0.0300 - val_accuracy: 0.8466\n",
            "Epoch 182/200\n",
            "469/469 [==============================] - 2s 4ms/step - loss: 0.0308 - accuracy: 0.8393 - val_loss: 0.0298 - val_accuracy: 0.8474\n",
            "Epoch 183/200\n",
            "469/469 [==============================] - 2s 4ms/step - loss: 0.0307 - accuracy: 0.8400 - val_loss: 0.0297 - val_accuracy: 0.8486\n",
            "Epoch 184/200\n",
            "469/469 [==============================] - 2s 3ms/step - loss: 0.0305 - accuracy: 0.8408 - val_loss: 0.0296 - val_accuracy: 0.8491\n",
            "Epoch 185/200\n",
            "469/469 [==============================] - 2s 3ms/step - loss: 0.0304 - accuracy: 0.8415 - val_loss: 0.0295 - val_accuracy: 0.8501\n",
            "Epoch 186/200\n",
            "469/469 [==============================] - 2s 4ms/step - loss: 0.0303 - accuracy: 0.8423 - val_loss: 0.0293 - val_accuracy: 0.8505\n",
            "Epoch 187/200\n",
            "469/469 [==============================] - 2s 4ms/step - loss: 0.0302 - accuracy: 0.8428 - val_loss: 0.0292 - val_accuracy: 0.8510\n",
            "Epoch 188/200\n",
            "469/469 [==============================] - 2s 4ms/step - loss: 0.0300 - accuracy: 0.8433 - val_loss: 0.0291 - val_accuracy: 0.8514\n",
            "Epoch 189/200\n",
            "469/469 [==============================] - 2s 4ms/step - loss: 0.0299 - accuracy: 0.8440 - val_loss: 0.0290 - val_accuracy: 0.8521\n",
            "Epoch 190/200\n",
            "469/469 [==============================] - 2s 4ms/step - loss: 0.0298 - accuracy: 0.8444 - val_loss: 0.0288 - val_accuracy: 0.8528\n",
            "Epoch 191/200\n",
            "469/469 [==============================] - 2s 3ms/step - loss: 0.0297 - accuracy: 0.8450 - val_loss: 0.0287 - val_accuracy: 0.8532\n",
            "Epoch 192/200\n",
            "469/469 [==============================] - 2s 4ms/step - loss: 0.0296 - accuracy: 0.8455 - val_loss: 0.0286 - val_accuracy: 0.8538\n",
            "Epoch 193/200\n",
            "469/469 [==============================] - 2s 4ms/step - loss: 0.0294 - accuracy: 0.8461 - val_loss: 0.0285 - val_accuracy: 0.8538\n",
            "Epoch 194/200\n",
            "469/469 [==============================] - 2s 4ms/step - loss: 0.0293 - accuracy: 0.8467 - val_loss: 0.0284 - val_accuracy: 0.8544\n",
            "Epoch 195/200\n",
            "469/469 [==============================] - 2s 4ms/step - loss: 0.0292 - accuracy: 0.8472 - val_loss: 0.0283 - val_accuracy: 0.8546\n",
            "Epoch 196/200\n",
            "469/469 [==============================] - 2s 3ms/step - loss: 0.0291 - accuracy: 0.8478 - val_loss: 0.0281 - val_accuracy: 0.8556\n",
            "Epoch 197/200\n",
            "469/469 [==============================] - 2s 4ms/step - loss: 0.0290 - accuracy: 0.8483 - val_loss: 0.0280 - val_accuracy: 0.8559\n",
            "Epoch 198/200\n",
            "469/469 [==============================] - 2s 4ms/step - loss: 0.0289 - accuracy: 0.8487 - val_loss: 0.0279 - val_accuracy: 0.8566\n",
            "Epoch 199/200\n",
            "469/469 [==============================] - 2s 3ms/step - loss: 0.0288 - accuracy: 0.8491 - val_loss: 0.0278 - val_accuracy: 0.8572\n",
            "Epoch 200/200\n",
            "469/469 [==============================] - 2s 3ms/step - loss: 0.0287 - accuracy: 0.8496 - val_loss: 0.0277 - val_accuracy: 0.8577\n"
          ]
        },
        {
          "output_type": "execute_result",
          "data": {
            "text/plain": [
              "<keras.callbacks.History at 0x7fbac89f1a90>"
            ]
          },
          "metadata": {},
          "execution_count": 21
        }
      ]
    },
    {
      "cell_type": "code",
      "metadata": {
        "colab": {
          "base_uri": "https://localhost:8080/"
        },
        "id": "7_t5ufz2wCGq",
        "outputId": "2b1ee705-1493-4938-a262-7e4ac08618ac"
      },
      "source": [
        "pr=model.predict(X_test[0:1])\n",
        "pr"
      ],
      "execution_count": null,
      "outputs": [
        {
          "output_type": "execute_result",
          "data": {
            "text/plain": [
              "array([[0.09141134, 0.10809574, 0.11606258, 0.09012576, 0.09164559, 0.1040827 , 0.10348908, 0.10003775, 0.1053063 , 0.08974316]], dtype=float32)"
            ]
          },
          "metadata": {},
          "execution_count": 40
        }
      ]
    },
    {
      "cell_type": "code",
      "metadata": {
        "colab": {
          "base_uri": "https://localhost:8080/"
        },
        "id": "SFgoJKjxwPnZ",
        "outputId": "f163b71b-bdbc-4d5b-e54e-fe376e1f7a6e"
      },
      "source": [
        "np.round(pr,3)"
      ],
      "execution_count": null,
      "outputs": [
        {
          "output_type": "execute_result",
          "data": {
            "text/plain": [
              "array([[0.091, 0.108, 0.116, 0.09 , 0.092, 0.104, 0.103, 0.1  , 0.105, 0.09 ]], dtype=float32)"
            ]
          },
          "metadata": {},
          "execution_count": 41
        }
      ]
    },
    {
      "cell_type": "code",
      "metadata": {
        "colab": {
          "base_uri": "https://localhost:8080/"
        },
        "id": "0j9F5QbejJR3",
        "outputId": "6285070b-b512-44ca-d5b8-c41c74644bbb"
      },
      "source": [
        "np.argmax(pr)"
      ],
      "execution_count": null,
      "outputs": [
        {
          "output_type": "execute_result",
          "data": {
            "text/plain": [
              "2"
            ]
          },
          "metadata": {},
          "execution_count": 42
        }
      ]
    },
    {
      "cell_type": "code",
      "metadata": {
        "colab": {
          "base_uri": "https://localhost:8080/"
        },
        "id": "pBI5Nn1_wU1S",
        "outputId": "6a4b1328-be0d-4057-a2a8-a38d1d89b950"
      },
      "source": [
        "Y_test[0:5]"
      ],
      "execution_count": null,
      "outputs": [
        {
          "output_type": "execute_result",
          "data": {
            "text/plain": [
              "array([[0., 0., 0., 0., 0., 0., 0., 1., 0., 0.],\n",
              "       [0., 0., 1., 0., 0., 0., 0., 0., 0., 0.],\n",
              "       [0., 1., 0., 0., 0., 0., 0., 0., 0., 0.],\n",
              "       [1., 0., 0., 0., 0., 0., 0., 0., 0., 0.],\n",
              "       [0., 0., 0., 0., 1., 0., 0., 0., 0., 0.]], dtype=float32)"
            ]
          },
          "metadata": {},
          "execution_count": 26
        }
      ]
    },
    {
      "cell_type": "code",
      "metadata": {
        "colab": {
          "base_uri": "https://localhost:8080/",
          "height": 282
        },
        "id": "XE5aZXQVwZd9",
        "outputId": "f6015ece-29b2-451e-edd7-ea6664e8623e"
      },
      "source": [
        "plt.imshow(X_test[0].reshape((28,28)),cmap='gray')"
      ],
      "execution_count": null,
      "outputs": [
        {
          "output_type": "execute_result",
          "data": {
            "text/plain": [
              "<matplotlib.image.AxesImage at 0x7fd4af615050>"
            ]
          },
          "metadata": {},
          "execution_count": 134
        },
        {
          "output_type": "display_data",
          "data": {
            "image/png": "[encoded data removed]",
            "text/plain": [
              "<Figure size 432x288 with 1 Axes>"
            ]
          },
          "metadata": {
            "needs_background": "light"
          }
        }
      ]
    },
    {
      "cell_type": "code",
      "metadata": {
        "colab": {
          "base_uri": "https://localhost:8080/",
          "height": 646
        },
        "id": "fMaEe-pfvFpL",
        "outputId": "b0d35fe3-46be-4e86-d3b5-966b3f786e8c"
      },
      "source": [
        "predictions = model.predict(X_test[0:20])\n",
        "# get prediction result\n",
        "print('prediction:', np.round(predictions[0:20],4))\n",
        "print('actual    :', Y_test[0:20])\n",
        "\n",
        "# 顯示錯誤的資料圖像\n",
        "X2 = X_test[8,:]\n",
        "plt.imshow(X2.reshape(28,28),cmap='gray')\n",
        "\n",
        "np.argmax(predictions[0:20])"
      ],
      "execution_count": null,
      "outputs": [
        {
          "output_type": "stream",
          "name": "stdout",
          "text": [
            "prediction: [[0.0924 0.1084 0.1131 0.0918 0.0929 0.104  0.1027 0.0986 0.1042 0.092 ]\n",
            " [0.0964 0.098  0.1045 0.1007 0.1009 0.098  0.0957 0.1068 0.0934 0.1056]\n",
            " [0.0945 0.1091 0.1058 0.0957 0.0894 0.1042 0.1084 0.0928 0.0996 0.1005]\n",
            " [0.1007 0.0955 0.0956 0.0959 0.0994 0.0897 0.1068 0.1108 0.1041 0.1014]\n",
            " [0.0995 0.1051 0.1012 0.1006 0.0972 0.1014 0.0916 0.1024 0.1054 0.0957]\n",
            " [0.0923 0.1071 0.1078 0.0968 0.0923 0.1014 0.1075 0.0946 0.1008 0.0994]\n",
            " [0.1072 0.0976 0.1007 0.0897 0.1016 0.1065 0.1024 0.0968 0.0975 0.1001]\n",
            " [0.0918 0.103  0.0989 0.0954 0.1064 0.0937 0.104  0.1092 0.0961 0.1015]\n",
            " [0.1064 0.0954 0.1077 0.1034 0.0998 0.0912 0.1117 0.0829 0.0998 0.1016]\n",
            " [0.1055 0.0979 0.1053 0.1059 0.1051 0.0958 0.0916 0.103  0.0921 0.0978]\n",
            " [0.0892 0.1056 0.1034 0.1011 0.1053 0.1054 0.0947 0.0994 0.0955 0.1003]\n",
            " [0.1071 0.096  0.0927 0.1098 0.0972 0.1127 0.0959 0.0985 0.0886 0.1016]\n",
            " [0.0977 0.1    0.0967 0.093  0.1018 0.0951 0.1043 0.1032 0.1077 0.1005]\n",
            " [0.1038 0.1011 0.098  0.0906 0.0941 0.1061 0.1047 0.102  0.1003 0.0992]\n",
            " [0.097  0.099  0.0959 0.1038 0.0945 0.0993 0.0966 0.1035 0.1001 0.1104]\n",
            " [0.0921 0.1005 0.1017 0.0876 0.0979 0.1056 0.1053 0.1039 0.0985 0.107 ]\n",
            " [0.1002 0.102  0.0967 0.0972 0.1019 0.098  0.0983 0.0968 0.1068 0.102 ]\n",
            " [0.0897 0.1034 0.1058 0.1003 0.093  0.1003 0.1016 0.102  0.1098 0.0941]\n",
            " [0.083  0.0845 0.1103 0.1106 0.1113 0.0868 0.1028 0.1111 0.0916 0.108 ]\n",
            " [0.1019 0.1045 0.105  0.0947 0.1013 0.1057 0.0901 0.1103 0.095  0.0916]]\n",
            "actual    : [7 2 1 0 4 1 4 9 5 9 0 6 9 0 1 5 9 7 3 4]\n"
          ]
        },
        {
          "output_type": "execute_result",
          "data": {
            "text/plain": [
              "2"
            ]
          },
          "metadata": {},
          "execution_count": 69
        },
        {
          "output_type": "display_data",
          "data": {
            "image/png": "[encoded data removed]",
            "text/plain": [
              "<Figure size 432x288 with 1 Axes>"
            ]
          },
          "metadata": {
            "needs_background": "light"
          }
        }
      ]
    },
    {
      "cell_type": "markdown",
      "metadata": {
        "id": "KhYAsPGQxp7K"
      },
      "source": [
        "## bitmap image"
      ]
    },
    {
      "cell_type": "code",
      "metadata": {
        "id": "u4h95q47xuLq"
      },
      "source": [
        "digit=plt.imread('/content/drive/MyDrive/人工智慧/第二周功課圖片0-9/6.png')"
      ],
      "execution_count": null,
      "outputs": []
    },
    {
      "cell_type": "code",
      "metadata": {
        "id": "ADQ8MWf2yWqJ",
        "colab": {
          "base_uri": "https://localhost:8080/"
        },
        "outputId": "ebb53347-94c7-428d-c7fb-a27fa843c4e4"
      },
      "source": [
        "digit.shape"
      ],
      "execution_count": null,
      "outputs": [
        {
          "output_type": "execute_result",
          "data": {
            "text/plain": [
              "(28, 28, 3)"
            ]
          },
          "metadata": {},
          "execution_count": 23
        }
      ]
    },
    {
      "cell_type": "markdown",
      "metadata": {
        "id": "GiJCQHRbHGfn"
      },
      "source": [
        "digit[:,:,0]->[所有的列:所有的行:第幾個channel]\n",
        "\n",
        "\n",
        "\n"
      ]
    },
    {
      "cell_type": "code",
      "metadata": {
        "id": "MCE0nmPVyZJA",
        "colab": {
          "base_uri": "https://localhost:8080/",
          "height": 282
        },
        "outputId": "89c04388-237a-4245-8797-d0bea65d1d58"
      },
      "source": [
        "plt.imshow(digit[:,:,0],cmap='gray')"
      ],
      "execution_count": null,
      "outputs": [
        {
          "output_type": "execute_result",
          "data": {
            "text/plain": [
              "<matplotlib.image.AxesImage at 0x7f3933466f50>"
            ]
          },
          "metadata": {},
          "execution_count": 203
        },
        {
          "output_type": "display_data",
          "data": {
            "image/png": "[encoded data removed]",
            "text/plain": [
              "<Figure size 432x288 with 1 Axes>"
            ]
          },
          "metadata": {
            "needs_background": "light"
          }
        }
      ]
    },
    {
      "cell_type": "code",
      "metadata": {
        "colab": {
          "base_uri": "https://localhost:8080/"
        },
        "id": "4gUlAsHbILEA",
        "outputId": "c6643106-df23-4a22-c099-79ae2661ac03"
      },
      "source": [
        "digit[:,:,0].reshape((1,784))"
      ],
      "execution_count": null,
      "outputs": [
        {
          "output_type": "execute_result",
          "data": {
            "text/plain": [
              "array([[0.        , 0.        , 0.        , 0.        , 0.        , 0.        , 0.        , 0.        , 0.        , 0.        , 0.        , 0.        , 0.        , 0.        ,\n",
              "        0.        , 0.        , 0.        , 0.        , 0.        , 0.        , 0.        , 0.        , 0.        , 0.        , 0.        , 0.        , 0.        , 0.        ,\n",
              "        0.        , 0.        , 0.        , 0.        , 0.        , 0.        , 0.        , 0.        , 0.        , 0.        , 0.        , 0.        , 0.        , 0.        ,\n",
              "        0.        , 0.        , 0.        , 0.        , 0.        , 0.        , 0.        , 0.        , 0.        , 0.        , 0.        , 0.        , 0.        , 0.        ,\n",
              "        0.        , 0.        , 0.        , 0.        , 0.        , 0.        , 0.        , 0.        , 0.        , 0.        , 0.        , 0.        , 0.        , 0.        ,\n",
              "        0.        , 0.        , 0.        , 0.        , 0.        , 0.        , 0.        , 0.        , 0.        , 0.        , 0.        , 0.        , 0.        , 0.        ,\n",
              "        0.        , 0.        , 0.        , 0.        , 0.        , 0.        , 0.        , 0.        , 0.        , 0.        , 0.        , 0.        , 0.        , 0.        ,\n",
              "        0.        , 0.        , 0.        , 0.        , 0.        , 0.        , 0.        , 0.        , 0.        , 0.        , 0.        , 0.        , 0.        , 0.        ,\n",
              "        0.        , 0.        , 0.        , 0.        , 0.        , 0.        , 0.        , 0.        , 0.        , 0.        , 0.        , 0.        , 0.        , 0.        ,\n",
              "        0.        , 0.        , 0.        , 0.        , 0.        , 0.        , 0.18039216, 0.12941177, 0.        , 0.        , 0.        , 0.        , 0.        , 0.        ,\n",
              "        0.        , 0.        , 0.        , 0.        , 0.        , 0.        , 0.        , 0.        , 0.        , 0.        , 0.        , 0.        , 0.        , 0.        ,\n",
              "        0.        , 0.        , 0.        , 0.34901962, 0.5882353 , 0.81960785, 0.9019608 , 0.9019608 , 0.20392157, 0.        , 0.        , 0.        , 0.        , 0.        ,\n",
              "        0.        , 0.        , 0.        , 0.        , 0.        , 0.        , 0.        , 0.        , 0.        , 0.        , 0.        , 0.        , 0.        , 0.        ,\n",
              "        0.        , 0.        , 0.5686275 , 0.9019608 , 0.9019608 , 0.9019608 , 0.9019608 , 0.9019608 , 0.34117648, 0.        , 0.        , 0.        , 0.        , 0.        ,\n",
              "        0.        , 0.        , 0.        , 0.        , 0.        , 0.        , 0.        , 0.        , 0.        , 0.        , 0.        , 0.        , 0.        , 0.        ,\n",
              "        0.09019608, 0.68235296, 0.9019608 , 0.9019608 , 0.9019608 , 0.9019608 , 0.8117647 , 0.5529412 , 0.        , 0.        , 0.        , 0.        , 0.        , 0.        ,\n",
              "        0.        , 0.        , 0.        , 0.        , 0.        , 0.        , 0.        , 0.        , 0.        , 0.        , 0.        , 0.        , 0.        , 0.08627451,\n",
              "        0.7254902 , 0.9019608 , 0.9019608 , 0.9019608 , 0.5294118 , 0.18431373, 0.        , 0.        , 0.        , 0.        , 0.        , 0.        , 0.        , 0.        ,\n",
              "        0.        , 0.        , 0.        , 0.        , 0.        , 0.        , 0.        , 0.        , 0.        , 0.        , 0.        , 0.        , 0.07058824, 0.7176471 ,\n",
              "        0.9019608 , 0.9019608 , 0.9019608 , 0.45490196, 0.        , 0.        , 0.        , 0.        , 0.        , 0.        , 0.        , 0.        , 0.        , 0.        ,\n",
              "        0.        , 0.        , 0.        , 0.        , 0.        , 0.        , 0.        , 0.        , 0.        , 0.        , 0.        , 0.        , 0.64705884, 0.9019608 ,\n",
              "        0.9019608 , 0.9019608 , 0.43529412, 0.        , 0.        , 0.        , 0.        , 0.        , 0.        , 0.        , 0.        , 0.        , 0.        , 0.        ,\n",
              "        0.        , 0.        , 0.        , 0.        , 0.        , 0.        , 0.        , 0.        , 0.        , 0.        , 0.        , 0.5294118 , 0.9019608 , 0.9019608 ,\n",
              "        0.9019608 , 0.45882353, 0.        , 0.        , 0.        , 0.        , 0.        , 0.        , 0.        , 0.        , 0.        , 0.        , 0.        , 0.        ,\n",
              "        0.        , 0.        , 0.        , 0.        , 0.        , 0.        , 0.        , 0.        , 0.        , 0.        , 0.31764707, 0.9019608 , 0.9019608 , 0.9019608 ,\n",
              "        0.52156866, 0.        , 0.        , 0.        , 0.        , 0.        , 0.        , 0.        , 0.        , 0.        , 0.        , 0.        , 0.        , 0.        ,\n",
              "        0.        , 0.        , 0.        , 0.        , 0.        , 0.        , 0.        , 0.        , 0.        , 0.01568628, 0.78431374, 0.9019608 , 0.9019608 , 0.6       ,\n",
              "        0.        , 0.        , 0.        , 0.        , 0.        , 0.        , 0.        , 0.        , 0.        , 0.        , 0.        , 0.        , 0.        , 0.        ,\n",
              "        0.        , 0.        , 0.        , 0.        , 0.        , 0.        , 0.        , 0.        , 0.        , 0.42745098, 0.9019608 , 0.9019608 , 0.87058824, 0.25490198,\n",
              "        0.        , 0.        , 0.        , 0.        , 0.        , 0.        , 0.        , 0.        , 0.        , 0.        , 0.        , 0.        , 0.        , 0.        ,\n",
              "        0.        , 0.        , 0.        , 0.        , 0.        , 0.        , 0.        , 0.        , 0.        , 0.7372549 , 0.9019608 , 0.9019608 , 0.9019608 , 0.9019608 ,\n",
              "        0.7254902 , 0.3647059 , 0.00784314, 0.        , 0.        , 0.        , 0.        , 0.        , 0.        , 0.        , 0.        , 0.        , 0.        , 0.        ,\n",
              "        0.        , 0.        , 0.        , 0.        , 0.        , 0.        , 0.        , 0.        , 0.19215687, 0.9019608 , 0.9019608 , 0.9019608 , 0.9019608 , 0.9019608 ,\n",
              "        0.9019608 , 0.9019608 , 0.8352941 , 0.3254902 , 0.        , 0.        , 0.        , 0.        , 0.        , 0.        , 0.        , 0.        , 0.        , 0.        ,\n",
              "        0.        , 0.        , 0.        , 0.        , 0.        , 0.        , 0.        , 0.        , 0.45882353, 0.9019608 , 0.9019608 , 0.5803922 , 0.50980395, 0.8666667 ,\n",
              "        0.9019608 , 0.9019608 , 0.9019608 , 0.8784314 , 0.16078432, 0.        , 0.        , 0.        , 0.        , 0.        , 0.        , 0.        , 0.        , 0.        ,\n",
              "        0.        , 0.        , 0.        , 0.        , 0.        , 0.        , 0.        , 0.        , 0.5803922 , 0.9019608 , 0.9019608 , 0.34901962, 0.        , 0.03921569,\n",
              "        0.39607844, 0.7529412 , 0.9019608 , 0.9019608 , 0.6666667 , 0.        , 0.        , 0.        , 0.        , 0.        , 0.        , 0.        , 0.        , 0.        ,\n",
              "        0.        , 0.        , 0.        , 0.        , 0.        , 0.        , 0.        , 0.        , 0.7019608 , 0.9019608 , 0.9019608 , 0.23137255, 0.        , 0.        ,\n",
              "        0.        , 0.19607843, 0.9019608 , 0.9019608 , 0.85490197, 0.        , 0.        , 0.        , 0.        , 0.        , 0.        , 0.        , 0.        , 0.        ,\n",
              "        0.        , 0.        , 0.        , 0.        , 0.        , 0.        , 0.        , 0.        , 0.68235296, 0.9019608 , 0.9019608 , 0.2627451 , 0.        , 0.        ,\n",
              "        0.        , 0.2784314 , 0.9019608 , 0.9019608 , 0.9019608 , 0.0627451 , 0.        , 0.        , 0.        , 0.        , 0.        , 0.        , 0.        , 0.        ,\n",
              "        0.        , 0.        , 0.        , 0.        , 0.        , 0.        , 0.        , 0.        , 0.5254902 , 0.9019608 , 0.9019608 , 0.5764706 , 0.29411766, 0.38039216,\n",
              "        0.59607846, 0.9019608 , 0.9019608 , 0.9019608 , 0.5294118 , 0.        , 0.        , 0.        , 0.        , 0.        , 0.        , 0.        , 0.        , 0.        ,\n",
              "        0.        , 0.        , 0.        , 0.        , 0.        , 0.        , 0.        , 0.        , 0.36078432, 0.9019608 , 0.9019608 , 0.9019608 , 0.9019608 , 0.9019608 ,\n",
              "        0.9019608 , 0.9019608 , 0.9019608 , 0.84705883, 0.08235294, 0.        , 0.        , 0.        , 0.        , 0.        , 0.        , 0.        , 0.        , 0.        ,\n",
              "        0.        , 0.        , 0.        , 0.        , 0.        , 0.        , 0.        , 0.        , 0.        , 0.4862745 , 0.9019608 , 0.9019608 , 0.9019608 , 0.9019608 ,\n",
              "        0.9019608 , 0.9019608 , 0.56078434, 0.11764706, 0.        , 0.        , 0.        , 0.        , 0.        , 0.        , 0.        , 0.        , 0.        , 0.        ,\n",
              "        0.        , 0.        , 0.00392157, 0.0627451 , 0.        , 0.        , 0.        , 0.        , 0.        , 0.        , 0.32941177, 0.5176471 , 0.627451  , 0.59607846,\n",
              "        0.38039216, 0.16470589, 0.        , 0.        , 0.        , 0.        , 0.        , 0.        , 0.        , 0.        , 0.        , 0.        , 0.        , 0.        ,\n",
              "        0.        , 0.16470589, 0.44313726, 0.42745098, 0.3882353 , 0.08235294, 0.        , 0.        , 0.        , 0.        , 0.        , 0.        , 0.        , 0.        ,\n",
              "        0.        , 0.        , 0.        , 0.        , 0.        , 0.        , 0.        , 0.        , 0.        , 0.        , 0.        , 0.        , 0.        , 0.        ,\n",
              "        0.        , 0.4392157 , 0.22745098, 0.13333334, 0.28235295, 0.33333334, 0.        , 0.        , 0.        , 0.        , 0.        , 0.        , 0.        , 0.        ,\n",
              "        0.        , 0.        , 0.        , 0.        , 0.        , 0.        , 0.        , 0.        , 0.        , 0.        , 0.        , 0.        , 0.        , 0.        ,\n",
              "        0.05490196, 0.43529412, 0.13333334, 0.02745098, 0.19215687, 0.4117647 , 0.        , 0.        , 0.        , 0.        , 0.        , 0.        , 0.        , 0.        ,\n",
              "        0.        , 0.        , 0.        , 0.        , 0.        , 0.        , 0.        , 0.        , 0.        , 0.        , 0.        , 0.        , 0.        , 0.        ]],\n",
              "      dtype=float32)"
            ]
          },
          "metadata": {},
          "execution_count": 81
        }
      ]
    },
    {
      "cell_type": "code",
      "metadata": {
        "colab": {
          "base_uri": "https://localhost:8080/"
        },
        "id": "001KFhTrGwas",
        "outputId": "cb8ed4d9-2801-48a7-c640-385c18319795"
      },
      "source": [
        "digit[:,:,0].reshape((1,-1)).shape"
      ],
      "execution_count": null,
      "outputs": [
        {
          "output_type": "execute_result",
          "data": {
            "text/plain": [
              "(1, 784)"
            ]
          },
          "metadata": {},
          "execution_count": 24
        }
      ]
    },
    {
      "cell_type": "code",
      "metadata": {
        "id": "j9fHuGXQG4Hd"
      },
      "source": [
        "p=model.predict(digit[:,:,0].reshape((1,-1)))"
      ],
      "execution_count": null,
      "outputs": []
    },
    {
      "cell_type": "code",
      "metadata": {
        "colab": {
          "base_uri": "https://localhost:8080/"
        },
        "id": "mE-Ep8wCG_Zh",
        "outputId": "50da0066-d227-4940-95b9-cd376ec556da"
      },
      "source": [
        "p"
      ],
      "execution_count": null,
      "outputs": [
        {
          "output_type": "execute_result",
          "data": {
            "text/plain": [
              "array([[0.07135043, 0.05156823, 0.03484876, 0.05863881, 0.02685515, 0.37290227, 0.04645166, 0.00449019, 0.32017344, 0.01272104]], dtype=float32)"
            ]
          },
          "metadata": {},
          "execution_count": 52
        }
      ]
    },
    {
      "cell_type": "code",
      "metadata": {
        "colab": {
          "base_uri": "https://localhost:8080/"
        },
        "id": "YraKUxhbImnP",
        "outputId": "6c06ecf9-e79c-4ddc-b60e-b0fd225c99dc"
      },
      "source": [
        "np.argmax(p)"
      ],
      "execution_count": null,
      "outputs": [
        {
          "output_type": "execute_result",
          "data": {
            "text/plain": [
              "5"
            ]
          },
          "metadata": {},
          "execution_count": 53
        }
      ]
    },
    {
      "cell_type": "code",
      "metadata": {
        "id": "jhfsPDmxyrwx"
      },
      "source": [
        "digit3=digit2/255."
      ],
      "execution_count": null,
      "outputs": []
    },
    {
      "cell_type": "code",
      "metadata": {
        "id": "INAJvh4JywtK",
        "colab": {
          "base_uri": "https://localhost:8080/"
        },
        "outputId": "84f13bc1-8edc-4dfc-90d5-76e009957b24"
      },
      "source": [
        "digit3.shape"
      ],
      "execution_count": null,
      "outputs": [
        {
          "output_type": "execute_result",
          "data": {
            "text/plain": [
              "(28, 28)"
            ]
          },
          "metadata": {},
          "execution_count": 34
        }
      ]
    },
    {
      "cell_type": "code",
      "metadata": {
        "id": "jRWkRQPVyzgH",
        "colab": {
          "base_uri": "https://localhost:8080/"
        },
        "outputId": "64a42540-e345-454f-9f67-0089c081efe9"
      },
      "source": [
        "digit3.reshape((1,-1)).shape"
      ],
      "execution_count": null,
      "outputs": [
        {
          "output_type": "execute_result",
          "data": {
            "text/plain": [
              "(1, 784)"
            ]
          },
          "metadata": {},
          "execution_count": 35
        }
      ]
    },
    {
      "cell_type": "code",
      "metadata": {
        "id": "yeVOIjvxy5Db",
        "colab": {
          "base_uri": "https://localhost:8080/"
        },
        "outputId": "5aae8c67-0664-48d1-dcad-1214856941fb"
      },
      "source": [
        "X_test[0:1].shape"
      ],
      "execution_count": null,
      "outputs": [
        {
          "output_type": "execute_result",
          "data": {
            "text/plain": [
              "(1, 784)"
            ]
          },
          "metadata": {},
          "execution_count": 36
        }
      ]
    },
    {
      "cell_type": "markdown",
      "metadata": {
        "id": "pB7-YqYad1RX"
      },
      "source": [
        "## 找出最低的三個數字"
      ]
    },
    {
      "cell_type": "code",
      "metadata": {
        "id": "4twtm4SNd02I"
      },
      "source": [
        "import torch"
      ],
      "execution_count": null,
      "outputs": []
    },
    {
      "cell_type": "code",
      "metadata": {
        "id": "wK29wBgKd-2x"
      },
      "source": [
        "p1=torch.tensor(p,dtype=torch.float32)"
      ],
      "execution_count": null,
      "outputs": []
    },
    {
      "cell_type": "code",
      "metadata": {
        "colab": {
          "base_uri": "https://localhost:8080/"
        },
        "id": "yzq8GA1Ek7vB",
        "outputId": "e8308a2d-90bb-4d4c-a453-bfbd407a7136"
      },
      "source": [
        "p1.shape"
      ],
      "execution_count": null,
      "outputs": [
        {
          "output_type": "execute_result",
          "data": {
            "text/plain": [
              "torch.Size([1, 10])"
            ]
          },
          "metadata": {},
          "execution_count": 55
        }
      ]
    },
    {
      "cell_type": "code",
      "metadata": {
        "id": "nWLfdTlNlAaB"
      },
      "source": [
        "a,b = torch.max(p1,1)"
      ],
      "execution_count": null,
      "outputs": []
    },
    {
      "cell_type": "code",
      "metadata": {
        "colab": {
          "base_uri": "https://localhost:8080/"
        },
        "id": "rgov75zplDmY",
        "outputId": "e1c695d5-267d-4141-8ed8-bb2e97322cbf"
      },
      "source": [
        "print(a)\n",
        "print(b)"
      ],
      "execution_count": null,
      "outputs": [
        {
          "output_type": "stream",
          "name": "stdout",
          "text": [
            "tensor([0.1068])\n",
            "tensor([2])\n"
          ]
        }
      ]
    },
    {
      "cell_type": "code",
      "metadata": {
        "id": "iGDemq-ClMhm"
      },
      "source": [
        "pre=model.predict(X_test)"
      ],
      "execution_count": null,
      "outputs": []
    },
    {
      "cell_type": "code",
      "metadata": {
        "id": "W9FkngVdreIz",
        "colab": {
          "base_uri": "https://localhost:8080/"
        },
        "outputId": "d761b424-7141-45fb-f489-e8a0baeea908"
      },
      "source": [
        "pre"
      ],
      "execution_count": null,
      "outputs": [
        {
          "output_type": "execute_result",
          "data": {
            "text/plain": [
              "array([[0.09242521, 0.10841122, 0.11306933, ..., 0.09856915, 0.10419945, 0.09196571],\n",
              "       [0.09642017, 0.09800112, 0.10445013, ..., 0.10681158, 0.09341394, 0.10560817],\n",
              "       [0.09447212, 0.10911235, 0.10584448, ..., 0.0927882 , 0.0996033 , 0.10051281],\n",
              "       ...,\n",
              "       [0.10911483, 0.08802552, 0.10819361, ..., 0.09334679, 0.10356126, 0.09319356],\n",
              "       [0.09591622, 0.10946923, 0.10425171, ..., 0.10765022, 0.09910344, 0.09704188],\n",
              "       [0.10987053, 0.0860939 , 0.10888607, ..., 0.09447896, 0.11014964, 0.09279609]], dtype=float32)"
            ]
          },
          "metadata": {},
          "execution_count": 119
        }
      ]
    },
    {
      "cell_type": "code",
      "metadata": {
        "colab": {
          "base_uri": "https://localhost:8080/"
        },
        "id": "jubTwz9kTj6I",
        "outputId": "785076c1-7163-4a63-f991-8558be3c9f12"
      },
      "source": [
        "np.round(pre,4)"
      ],
      "execution_count": null,
      "outputs": [
        {
          "output_type": "execute_result",
          "data": {
            "text/plain": [
              "array([[0.0924, 0.1084, 0.1131, ..., 0.0986, 0.1042, 0.092 ],\n",
              "       [0.0964, 0.098 , 0.1045, ..., 0.1068, 0.0934, 0.1056],\n",
              "       [0.0945, 0.1091, 0.1058, ..., 0.0928, 0.0996, 0.1005],\n",
              "       ...,\n",
              "       [0.1091, 0.088 , 0.1082, ..., 0.0933, 0.1036, 0.0932],\n",
              "       [0.0959, 0.1095, 0.1043, ..., 0.1077, 0.0991, 0.097 ],\n",
              "       [0.1099, 0.0861, 0.1089, ..., 0.0945, 0.1101, 0.0928]], dtype=float32)"
            ]
          },
          "metadata": {},
          "execution_count": 121
        }
      ]
    },
    {
      "cell_type": "code",
      "metadata": {
        "id": "1pGujIsBTwGB"
      },
      "source": [
        "predict_num=torch.tensor(pre)"
      ],
      "execution_count": null,
      "outputs": []
    },
    {
      "cell_type": "code",
      "metadata": {
        "id": "iVKB981sUlVI"
      },
      "source": [
        "rate,index = torch.max(predict_num,1)"
      ],
      "execution_count": null,
      "outputs": []
    },
    {
      "cell_type": "code",
      "metadata": {
        "colab": {
          "base_uri": "https://localhost:8080/"
        },
        "id": "JLBMtbb8uPO1",
        "outputId": "8e832219-1493-4a58-fc4e-b63cd633b758"
      },
      "source": [
        "index"
      ],
      "execution_count": null,
      "outputs": [
        {
          "output_type": "execute_result",
          "data": {
            "text/plain": [
              "tensor([2, 7, 1,  ..., 3, 1, 8])"
            ]
          },
          "metadata": {},
          "execution_count": 133
        }
      ]
    },
    {
      "cell_type": "code",
      "metadata": {
        "id": "kIIHwMIWX-Sm"
      },
      "source": [
        "lower3 = [1,1,1]\n",
        "index3 = [0,0,0]"
      ],
      "execution_count": null,
      "outputs": []
    },
    {
      "cell_type": "markdown",
      "metadata": {
        "id": "ePfDRAqKbY7Z"
      },
      "source": [
        "[enumerate() 參考資料](https://www.runoob.com/python/python-func-enumerate.html)"
      ]
    },
    {
      "cell_type": "code",
      "metadata": {
        "colab": {
          "base_uri": "https://localhost:8080/"
        },
        "id": "h0BuqrOpVR-W",
        "outputId": "9595143b-8394-4ecb-9c0a-335688b68202"
      },
      "source": [
        "for i,(a) in enumerate(rate):\n",
        "  for j,(b) in enumerate(lower3):\n",
        "    if a < b :\n",
        "\n",
        "      lower3[j] = a\n",
        "      print(f\"lower3={lower3} , j={j}\")\n",
        "      index3[j] = i\n",
        "      break;"
      ],
      "execution_count": null,
      "outputs": [
        {
          "output_type": "stream",
          "name": "stdout",
          "text": [
            "lower3=[tensor(0.9235), 1, 1] , j=0\n",
            "lower3=[tensor(0.4729), 1, 1] , j=0\n",
            "lower3=[tensor(0.4729), tensor(0.8412), 1] , j=1\n",
            "lower3=[tensor(0.4729), tensor(0.8412), tensor(0.9007)] , j=2\n",
            "lower3=[tensor(0.4729), tensor(0.6228), tensor(0.9007)] , j=1\n",
            "lower3=[tensor(0.4729), tensor(0.6228), tensor(0.8864)] , j=2\n",
            "lower3=[tensor(0.4729), tensor(0.5067), tensor(0.8864)] , j=1\n",
            "lower3=[tensor(0.4170), tensor(0.5067), tensor(0.8864)] , j=0\n",
            "lower3=[tensor(0.2910), tensor(0.5067), tensor(0.8864)] , j=0\n",
            "lower3=[tensor(0.2910), tensor(0.4492), tensor(0.8864)] , j=1\n",
            "lower3=[tensor(0.2910), tensor(0.4492), tensor(0.7818)] , j=2\n",
            "lower3=[tensor(0.2849), tensor(0.4492), tensor(0.7818)] , j=0\n",
            "lower3=[tensor(0.2849), tensor(0.4492), tensor(0.6169)] , j=2\n",
            "lower3=[tensor(0.2849), tensor(0.3206), tensor(0.6169)] , j=1\n",
            "lower3=[tensor(0.2849), tensor(0.3206), tensor(0.4587)] , j=2\n",
            "lower3=[tensor(0.2849), tensor(0.3206), tensor(0.3371)] , j=2\n",
            "lower3=[tensor(0.2544), tensor(0.3206), tensor(0.3371)] , j=0\n",
            "lower3=[tensor(0.2544), tensor(0.2726), tensor(0.3371)] , j=1\n",
            "lower3=[tensor(0.2533), tensor(0.2726), tensor(0.3371)] , j=0\n",
            "lower3=[tensor(0.2533), tensor(0.2726), tensor(0.2804)] , j=2\n",
            "lower3=[tensor(0.2449), tensor(0.2726), tensor(0.2804)] , j=0\n",
            "lower3=[tensor(0.2449), tensor(0.2617), tensor(0.2804)] , j=1\n",
            "lower3=[tensor(0.2366), tensor(0.2617), tensor(0.2804)] , j=0\n",
            "lower3=[tensor(0.2366), tensor(0.2382), tensor(0.2804)] , j=1\n",
            "lower3=[tensor(0.2366), tensor(0.2382), tensor(0.2404)] , j=2\n",
            "lower3=[tensor(0.1764), tensor(0.2382), tensor(0.2404)] , j=0\n",
            "lower3=[tensor(0.1764), tensor(0.2018), tensor(0.2404)] , j=1\n",
            "lower3=[tensor(0.1764), tensor(0.2018), tensor(0.2129)] , j=2\n",
            "lower3=[tensor(0.1568), tensor(0.2018), tensor(0.2129)] , j=0\n",
            "lower3=[tensor(0.1568), tensor(0.2018), tensor(0.2117)] , j=2\n",
            "lower3=[tensor(0.1568), tensor(0.1977), tensor(0.2117)] , j=1\n",
            "lower3=[tensor(0.1568), tensor(0.1977), tensor(0.2083)] , j=2\n",
            "lower3=[tensor(0.1568), tensor(0.1977), tensor(0.2063)] , j=2\n",
            "lower3=[tensor(0.1568), tensor(0.1977), tensor(0.1988)] , j=2\n",
            "lower3=[tensor(0.1568), tensor(0.1620), tensor(0.1988)] , j=1\n",
            "lower3=[tensor(0.1568), tensor(0.1620), tensor(0.1951)] , j=2\n",
            "lower3=[tensor(0.1568), tensor(0.1620), tensor(0.1702)] , j=2\n",
            "lower3=[tensor(0.1409), tensor(0.1620), tensor(0.1702)] , j=0\n",
            "lower3=[tensor(0.1409), tensor(0.1620), tensor(0.1655)] , j=2\n",
            "lower3=[tensor(0.1409), tensor(0.1620), tensor(0.1653)] , j=2\n",
            "lower3=[tensor(0.1409), tensor(0.1477), tensor(0.1653)] , j=1\n",
            "lower3=[tensor(0.1403), tensor(0.1477), tensor(0.1653)] , j=0\n",
            "lower3=[tensor(0.1403), tensor(0.1477), tensor(0.1595)] , j=2\n"
          ]
        }
      ]
    },
    {
      "cell_type": "code",
      "metadata": {
        "colab": {
          "base_uri": "https://localhost:8080/"
        },
        "id": "3Qvl6Ba6XCZo",
        "outputId": "5fde9be4-594a-432e-886a-ee6ecafed9e8"
      },
      "source": [
        "print(lower3)"
      ],
      "execution_count": null,
      "outputs": [
        {
          "output_type": "stream",
          "name": "stdout",
          "text": [
            "[tensor(0.1403), tensor(0.1477), tensor(0.1595)]\n"
          ]
        }
      ]
    },
    {
      "cell_type": "code",
      "metadata": {
        "colab": {
          "base_uri": "https://localhost:8080/"
        },
        "id": "WnMS_saZZr9s",
        "outputId": "86707f95-7434-4953-ab21-d2e41f5343f7"
      },
      "source": [
        "print(index3)"
      ],
      "execution_count": null,
      "outputs": [
        {
          "output_type": "stream",
          "name": "stdout",
          "text": [
            "[8823, 7531, 9777]\n"
          ]
        }
      ]
    },
    {
      "cell_type": "code",
      "metadata": {
        "colab": {
          "base_uri": "https://localhost:8080/",
          "height": 282
        },
        "id": "GsTUYBKjaq2g",
        "outputId": "c94fb8ac-3b06-490d-dc07-2397181f2088"
      },
      "source": [
        "plt.imshow(X_test[9777].reshape((28,28)),cmap='gray')"
      ],
      "execution_count": null,
      "outputs": [
        {
          "output_type": "execute_result",
          "data": {
            "text/plain": [
              "<matplotlib.image.AxesImage at 0x7f2bd0523190>"
            ]
          },
          "metadata": {},
          "execution_count": 124
        },
        {
          "output_type": "display_data",
          "data": {
            "image/png": "[encoded data removed]",
            "text/plain": [
              "<Figure size 432x288 with 1 Axes>"
            ]
          },
          "metadata": {
            "needs_background": "light"
          }
        }
      ]
    },
    {
      "cell_type": "code",
      "metadata": {
        "id": "1JGEZDVsd6sP"
      },
      "source": [
        "pred=model.predict(X_test[9777:9778])"
      ],
      "execution_count": null,
      "outputs": []
    },
    {
      "cell_type": "code",
      "metadata": {
        "colab": {
          "base_uri": "https://localhost:8080/"
        },
        "id": "kmrxB8bqeHs9",
        "outputId": "5c2acfed-b34d-4dc2-a651-e478c4f1db03"
      },
      "source": [
        "np.round(pred,3)"
      ],
      "execution_count": null,
      "outputs": [
        {
          "output_type": "execute_result",
          "data": {
            "text/plain": [
              "array([[0.112, 0.02 , 0.118, 0.119, 0.16 , 0.144, 0.092, 0.117, 0.056, 0.062]], dtype=float32)"
            ]
          },
          "metadata": {},
          "execution_count": 129
        }
      ]
    },
    {
      "cell_type": "code",
      "metadata": {
        "colab": {
          "base_uri": "https://localhost:8080/"
        },
        "id": "1bHvRj37fNjs",
        "outputId": "40d4e3da-2e5b-4a8d-ba46-01453d2dec82"
      },
      "source": [
        "np.argmax(pred)"
      ],
      "execution_count": null,
      "outputs": [
        {
          "output_type": "execute_result",
          "data": {
            "text/plain": [
              "4"
            ]
          },
          "metadata": {},
          "execution_count": 130
        }
      ]
    },
    {
      "cell_type": "markdown",
      "metadata": {
        "id": "oJRPBPOsgAoC"
      },
      "source": [
        "## 找出各數字總值"
      ]
    },
    {
      "cell_type": "code",
      "metadata": {
        "id": "o3BiCKdrgIRU"
      },
      "source": [
        "predict_Y=model.predict(X_test)"
      ],
      "execution_count": null,
      "outputs": []
    },
    {
      "cell_type": "code",
      "metadata": {
        "id": "TMqCiELAqctR"
      },
      "source": [
        "predict_Y=np.argmax(predict_Y,1)"
      ],
      "execution_count": null,
      "outputs": []
    },
    {
      "cell_type": "code",
      "metadata": {
        "id": "32VQxRJ08q2F"
      },
      "source": [
        "Ytest=np.argmax(Y_test,1)"
      ],
      "execution_count": null,
      "outputs": []
    },
    {
      "cell_type": "markdown",
      "metadata": {
        "id": "k5yP-4P9XBI0"
      },
      "source": [
        "####predY拿到predict_Y的值，Ytest拿到y_test的值"
      ]
    },
    {
      "cell_type": "code",
      "metadata": {
        "id": "ZfgkWzJdJdaS"
      },
      "source": [
        "for i in range(10):\n",
        "  row=[i for i in range(10)]\n",
        "  for j in range(10):\n",
        "    row[j]=0\n",
        "    for predY,Ytest in zip(predict_Y,y_test):\n",
        "      if predY==j and Ytest==i :\n",
        "       row[j] +=1\n",
        "  total.append(row)"
      ],
      "execution_count": null,
      "outputs": []
    },
    {
      "cell_type": "code",
      "metadata": {
        "id": "zgyE1TMrLEV4"
      },
      "source": [
        "import pandas as pd"
      ],
      "execution_count": null,
      "outputs": []
    },
    {
      "cell_type": "code",
      "metadata": {
        "id": "kgomzMsFLQ5W"
      },
      "source": [
        "#row1=[i for i in range(10)]"
      ],
      "execution_count": null,
      "outputs": []
    },
    {
      "cell_type": "code",
      "metadata": {
        "id": "daJVsQcFM1xp"
      },
      "source": [
        "row1=[i for i in range(10)]"
      ],
      "execution_count": null,
      "outputs": []
    },
    {
      "cell_type": "code",
      "metadata": {
        "id": "QWzClp1KLbW2"
      },
      "source": [
        "col=[j for j in range(10)]"
      ],
      "execution_count": null,
      "outputs": []
    },
    {
      "cell_type": "code",
      "metadata": {
        "id": "zjbk11WBLMD0"
      },
      "source": [
        "answer=pd.DataFrame(total,index=row1,columns=col)"
      ],
      "execution_count": null,
      "outputs": []
    },
    {
      "cell_type": "code",
      "metadata": {
        "id": "neyI0ju6LwEK"
      },
      "source": [
        "answer.index.name = 'True label'\n",
        "answer.columns.name = 'predict label'"
      ],
      "execution_count": null,
      "outputs": []
    },
    {
      "cell_type": "code",
      "metadata": {
        "colab": {
          "base_uri": "https://localhost:8080/",
          "height": 394
        },
        "id": "7WkmFfACL2ei",
        "outputId": "cc9ff832-7ad0-459f-899b-09d23f602846"
      },
      "source": [
        "answer"
      ],
      "execution_count": null,
      "outputs": [
        {
          "output_type": "execute_result",
          "data": {
            "text/html": [
              "<div>\n",
              "<style scoped>\n",
              "    .dataframe tbody tr th:only-of-type {\n",
              "        vertical-align: middle;\n",
              "    }\n",
              "\n",
              "    .dataframe tbody tr th {\n",
              "        vertical-align: top;\n",
              "    }\n",
              "\n",
              "    .dataframe thead th {\n",
              "        text-align: right;\n",
              "    }\n",
              "</style>\n",
              "<table border=\"1\" class=\"dataframe\">\n",
              "  <thead>\n",
              "    <tr style=\"text-align: right;\">\n",
              "      <th>predict label</th>\n",
              "      <th>0</th>\n",
              "      <th>1</th>\n",
              "      <th>2</th>\n",
              "      <th>3</th>\n",
              "      <th>4</th>\n",
              "      <th>5</th>\n",
              "      <th>6</th>\n",
              "      <th>7</th>\n",
              "      <th>8</th>\n",
              "      <th>9</th>\n",
              "    </tr>\n",
              "    <tr>\n",
              "      <th>True label</th>\n",
              "      <th></th>\n",
              "      <th></th>\n",
              "      <th></th>\n",
              "      <th></th>\n",
              "      <th></th>\n",
              "      <th></th>\n",
              "      <th></th>\n",
              "      <th></th>\n",
              "      <th></th>\n",
              "      <th></th>\n",
              "    </tr>\n",
              "  </thead>\n",
              "  <tbody>\n",
              "    <tr>\n",
              "      <th>0</th>\n",
              "      <td>949</td>\n",
              "      <td>0</td>\n",
              "      <td>2</td>\n",
              "      <td>6</td>\n",
              "      <td>0</td>\n",
              "      <td>5</td>\n",
              "      <td>12</td>\n",
              "      <td>1</td>\n",
              "      <td>5</td>\n",
              "      <td>0</td>\n",
              "    </tr>\n",
              "    <tr>\n",
              "      <th>1</th>\n",
              "      <td>0</td>\n",
              "      <td>1105</td>\n",
              "      <td>5</td>\n",
              "      <td>5</td>\n",
              "      <td>1</td>\n",
              "      <td>1</td>\n",
              "      <td>5</td>\n",
              "      <td>0</td>\n",
              "      <td>13</td>\n",
              "      <td>0</td>\n",
              "    </tr>\n",
              "    <tr>\n",
              "      <th>2</th>\n",
              "      <td>17</td>\n",
              "      <td>22</td>\n",
              "      <td>844</td>\n",
              "      <td>24</td>\n",
              "      <td>26</td>\n",
              "      <td>1</td>\n",
              "      <td>23</td>\n",
              "      <td>27</td>\n",
              "      <td>46</td>\n",
              "      <td>2</td>\n",
              "    </tr>\n",
              "    <tr>\n",
              "      <th>3</th>\n",
              "      <td>4</td>\n",
              "      <td>3</td>\n",
              "      <td>26</td>\n",
              "      <td>880</td>\n",
              "      <td>1</td>\n",
              "      <td>26</td>\n",
              "      <td>8</td>\n",
              "      <td>30</td>\n",
              "      <td>26</td>\n",
              "      <td>6</td>\n",
              "    </tr>\n",
              "    <tr>\n",
              "      <th>4</th>\n",
              "      <td>3</td>\n",
              "      <td>9</td>\n",
              "      <td>6</td>\n",
              "      <td>0</td>\n",
              "      <td>861</td>\n",
              "      <td>0</td>\n",
              "      <td>22</td>\n",
              "      <td>2</td>\n",
              "      <td>6</td>\n",
              "      <td>73</td>\n",
              "    </tr>\n",
              "    <tr>\n",
              "      <th>5</th>\n",
              "      <td>31</td>\n",
              "      <td>26</td>\n",
              "      <td>13</td>\n",
              "      <td>113</td>\n",
              "      <td>32</td>\n",
              "      <td>554</td>\n",
              "      <td>37</td>\n",
              "      <td>24</td>\n",
              "      <td>44</td>\n",
              "      <td>18</td>\n",
              "    </tr>\n",
              "    <tr>\n",
              "      <th>6</th>\n",
              "      <td>20</td>\n",
              "      <td>6</td>\n",
              "      <td>17</td>\n",
              "      <td>2</td>\n",
              "      <td>14</td>\n",
              "      <td>17</td>\n",
              "      <td>879</td>\n",
              "      <td>0</td>\n",
              "      <td>3</td>\n",
              "      <td>0</td>\n",
              "    </tr>\n",
              "    <tr>\n",
              "      <th>7</th>\n",
              "      <td>4</td>\n",
              "      <td>31</td>\n",
              "      <td>23</td>\n",
              "      <td>2</td>\n",
              "      <td>13</td>\n",
              "      <td>1</td>\n",
              "      <td>1</td>\n",
              "      <td>901</td>\n",
              "      <td>9</td>\n",
              "      <td>43</td>\n",
              "    </tr>\n",
              "    <tr>\n",
              "      <th>8</th>\n",
              "      <td>13</td>\n",
              "      <td>21</td>\n",
              "      <td>23</td>\n",
              "      <td>42</td>\n",
              "      <td>14</td>\n",
              "      <td>26</td>\n",
              "      <td>22</td>\n",
              "      <td>13</td>\n",
              "      <td>771</td>\n",
              "      <td>29</td>\n",
              "    </tr>\n",
              "    <tr>\n",
              "      <th>9</th>\n",
              "      <td>14</td>\n",
              "      <td>10</td>\n",
              "      <td>7</td>\n",
              "      <td>11</td>\n",
              "      <td>65</td>\n",
              "      <td>14</td>\n",
              "      <td>4</td>\n",
              "      <td>42</td>\n",
              "      <td>9</td>\n",
              "      <td>833</td>\n",
              "    </tr>\n",
              "  </tbody>\n",
              "</table>\n",
              "</div>"
            ],
            "text/plain": [
              "predict label    0     1    2    3    4    5    6    7    8    9\n",
              "True label                                                      \n",
              "0              949     0    2    6    0    5   12    1    5    0\n",
              "1                0  1105    5    5    1    1    5    0   13    0\n",
              "2               17    22  844   24   26    1   23   27   46    2\n",
              "3                4     3   26  880    1   26    8   30   26    6\n",
              "4                3     9    6    0  861    0   22    2    6   73\n",
              "5               31    26   13  113   32  554   37   24   44   18\n",
              "6               20     6   17    2   14   17  879    0    3    0\n",
              "7                4    31   23    2   13    1    1  901    9   43\n",
              "8               13    21   23   42   14   26   22   13  771   29\n",
              "9               14    10    7   11   65   14    4   42    9  833"
            ]
          },
          "metadata": {},
          "execution_count": 75
        }
      ]
    },
    {
      "cell_type": "markdown",
      "metadata": {
        "id": "Z-Srolt5MyST"
      },
      "source": [
        "##取index"
      ]
    },
    {
      "cell_type": "code",
      "metadata": {
        "id": "NWflTSyF583D"
      },
      "source": [
        "index9_4=[]\n",
        "index2_8=[]\n",
        "for i,(predY,Ytest) in enumerate(zip(predict_Y,y_test)):\n",
        "  if predY==4 and Ytest==9:\n",
        "    index9_4.append(i)\n",
        "  if predY==8 and Ytest==2:\n",
        "    index2_8.append(i)"
      ],
      "execution_count": null,
      "outputs": []
    },
    {
      "cell_type": "code",
      "metadata": {
        "colab": {
          "base_uri": "https://localhost:8080/"
        },
        "id": "nwYuZHNj7_P8",
        "outputId": "c601848e-994f-4baf-9216-3df00e4755fb"
      },
      "source": [
        "index9_4"
      ],
      "execution_count": null,
      "outputs": [
        {
          "output_type": "execute_result",
          "data": {
            "text/plain": [
              "[92,\n",
              " 151,\n",
              " 193,\n",
              " 336,\n",
              " 627,\n",
              " 673,\n",
              " 992,\n",
              " 1192,\n",
              " 1429,\n",
              " 1545,\n",
              " 1640,\n",
              " 1655,\n",
              " 1901,\n",
              " 2068,\n",
              " 2263,\n",
              " 2341,\n",
              " 3338,\n",
              " 3404,\n",
              " 3460,\n",
              " 3472,\n",
              " 3664,\n",
              " 3821,\n",
              " 3850,\n",
              " 3859,\n",
              " 3869,\n",
              " 3966,\n",
              " 4000,\n",
              " 4093,\n",
              " 4154,\n",
              " 4287,\n",
              " 4293,\n",
              " 4298,\n",
              " 4344,\n",
              " 4369,\n",
              " 4511,\n",
              " 4633,\n",
              " 4673,\n",
              " 4679,\n",
              " 4681,\n",
              " 5001,\n",
              " 5009,\n",
              " 5015,\n",
              " 5100,\n",
              " 5135,\n",
              " 6560,\n",
              " 6650,\n",
              " 6718,\n",
              " 6747,\n",
              " 6772,\n",
              " 6784,\n",
              " 6793,\n",
              " 7579,\n",
              " 7580,\n",
              " 8426,\n",
              " 9026,\n",
              " 9214,\n",
              " 9252,\n",
              " 9255,\n",
              " 9587,\n",
              " 9740,\n",
              " 9808,\n",
              " 9890,\n",
              " 9891,\n",
              " 9924,\n",
              " 9992]"
            ]
          },
          "metadata": {},
          "execution_count": 190
        }
      ]
    },
    {
      "cell_type": "code",
      "metadata": {
        "colab": {
          "base_uri": "https://localhost:8080/"
        },
        "id": "11aaazTL8Nkw",
        "outputId": "88ff584a-6350-4cd0-c8f7-0834c86a745c"
      },
      "source": [
        "index2_8"
      ],
      "execution_count": null,
      "outputs": [
        {
          "output_type": "execute_result",
          "data": {
            "text/plain": [
              "[119,\n",
              " 444,\n",
              " 613,\n",
              " 728,\n",
              " 738,\n",
              " 741,\n",
              " 1375,\n",
              " 1514,\n",
              " 1839,\n",
              " 1842,\n",
              " 2058,\n",
              " 2110,\n",
              " 2138,\n",
              " 2397,\n",
              " 2429,\n",
              " 2610,\n",
              " 3772,\n",
              " 3785,\n",
              " 3839,\n",
              " 4156,\n",
              " 4451,\n",
              " 4954,\n",
              " 5217,\n",
              " 5536,\n",
              " 5562,\n",
              " 5717,\n",
              " 6111,\n",
              " 7064,\n",
              " 7135,\n",
              " 7539,\n",
              " 8091,\n",
              " 8094,\n",
              " 9006,\n",
              " 9010,\n",
              " 9046,\n",
              " 9209,\n",
              " 9225,\n",
              " 9595,\n",
              " 9664,\n",
              " 9811,\n",
              " 9832,\n",
              " 9855,\n",
              " 9867,\n",
              " 9874,\n",
              " 9880,\n",
              " 9893]"
            ]
          },
          "metadata": {},
          "execution_count": 191
        }
      ]
    },
    {
      "cell_type": "code",
      "metadata": {
        "colab": {
          "base_uri": "https://localhost:8080/",
          "height": 312
        },
        "id": "CedSrrrV8czW",
        "outputId": "f28d29c2-77e7-4864-982c-1ae0a2916a49"
      },
      "source": [
        "plt.figure(figsize=(10,5))\n",
        "for k in range(65):\n",
        "  plt.subplot(5,13,k+1)\n",
        "  plt.imshow(X_test.reshape(-1,28,28)[index9_4[k]],cmap='gray') \n",
        "  plt.xticks([]) #將x軸顯示為空\n",
        "  plt.yticks([]) #將y軸顯示為空\n",
        "  plt.title(k)  #設置圖片標題"
      ],
      "execution_count": null,
      "outputs": [
        {
          "output_type": "display_data",
          "data": {
            "image/png": "[encoded data removed]",
            "text/plain": [
              "<Figure size 720x360 with 65 Axes>"
            ]
          },
          "metadata": {}
        }
      ]
    },
    {
      "cell_type": "code",
      "metadata": {
        "colab": {
          "base_uri": "https://localhost:8080/",
          "height": 147
        },
        "id": "Miixx1f2ILLI",
        "outputId": "abc7cc7c-39af-4324-b6aa-8961e734aab0"
      },
      "source": [
        "index94=index9_4[42:47]\n",
        "plt.figure(figsize=(10,5))\n",
        "for k in range(5):\n",
        "  plt.subplot(1,5,k+1)\n",
        "  plt.imshow(X_test.reshape(-1,28,28)[index94[k]],cmap='gray') \n",
        "  plt.xticks([]) #將x軸顯示為空\n",
        "  plt.yticks([]) #將y軸顯示為空\n",
        "  plt.title(k)  #設置圖片標題"
      ],
      "execution_count": null,
      "outputs": [
        {
          "output_type": "display_data",
          "data": {
            "image/png": "[encoded data removed]",
            "text/plain": [
              "<Figure size 720x360 with 5 Axes>"
            ]
          },
          "metadata": {}
        }
      ]
    },
    {
      "cell_type": "code",
      "metadata": {
        "colab": {
          "base_uri": "https://localhost:8080/",
          "height": 282
        },
        "id": "sf1MNggrJ5Td",
        "outputId": "565586c1-cd5a-4264-e920-0f5111ddec83"
      },
      "source": [
        "plt.imshow(X_test[0].reshape((28,28)),cmap='gray')"
      ],
      "execution_count": null,
      "outputs": [
        {
          "output_type": "execute_result",
          "data": {
            "text/plain": [
              "<matplotlib.image.AxesImage at 0x7fbac5a5fed0>"
            ]
          },
          "metadata": {},
          "execution_count": 205
        },
        {
          "output_type": "display_data",
          "data": {
            "image/png": "[encoded data removed]",
            "text/plain": [
              "<Figure size 432x288 with 1 Axes>"
            ]
          },
          "metadata": {
            "needs_background": "light"
          }
        }
      ]
    },
    {
      "cell_type": "code",
      "metadata": {
        "colab": {
          "base_uri": "https://localhost:8080/"
        },
        "id": "6ux5YGGJJuW0",
        "outputId": "3b948028-cac0-4fcd-a87b-879a01296d6d"
      },
      "source": [
        "index94"
      ],
      "execution_count": null,
      "outputs": [
        {
          "output_type": "execute_result",
          "data": {
            "text/plain": [
              "[5100, 5135, 6560, 6650]"
            ]
          },
          "metadata": {},
          "execution_count": 202
        }
      ]
    },
    {
      "cell_type": "code",
      "metadata": {
        "colab": {
          "base_uri": "https://localhost:8080/",
          "height": 413
        },
        "id": "iDPBp0g1963-",
        "outputId": "d72be663-3224-43e9-bd44-ed9f84e5c24d"
      },
      "source": [
        "plt.figure(figsize=(10,7))\n",
        "for k in range(46):\n",
        "  plt.subplot(5,10, k+1)\n",
        "  plt.imshow(X_test.reshape(-1,28,28)[index2_8[k]], cmap='gray')\n",
        "  plt.xticks([]) #將x軸顯示為空\n",
        "  plt.yticks([]) #將y軸顯示為空\n",
        "  plt.title(k)  #設置圖片標題\n"
      ],
      "execution_count": null,
      "outputs": [
        {
          "output_type": "display_data",
          "data": {
            "image/png": "[encoded data removed]",
            "text/plain": [
              "<Figure size 720x504 with 46 Axes>"
            ]
          },
          "metadata": {}
        }
      ]
    },
    {
      "cell_type": "code",
      "metadata": {
        "colab": {
          "base_uri": "https://localhost:8080/",
          "height": 147
        },
        "id": "wg9AgwjQLUa8",
        "outputId": "efa44eb3-184f-42c1-8546-6b6024af32e0"
      },
      "source": [
        "index28=index2_8[4:9]\n",
        "plt.figure(figsize=(10,7))\n",
        "for k in range(5):\n",
        "  plt.subplot(1,5, k+1)\n",
        "  plt.imshow(X_test.reshape(-1,28,28)[index28[k]], cmap='gray')\n",
        "  plt.xticks([]) #將x軸顯示為空\n",
        "  plt.yticks([]) #將y軸顯示為空\n",
        "  plt.title(k)  #設置圖片標題"
      ],
      "execution_count": null,
      "outputs": [
        {
          "output_type": "display_data",
          "data": {
            "image/png": "[encoded data removed]",
            "text/plain": [
              "<Figure size 720x504 with 5 Axes>"
            ]
          },
          "metadata": {}
        }
      ]
    }
  ]
}